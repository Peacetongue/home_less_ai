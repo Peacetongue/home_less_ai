{
 "metadata": {
  "kernelspec": {
   "display_name": "Python 3",
   "language": "python",
   "name": "python3"
  },
  "language_info": {
   "codemirror_mode": {
    "name": "ipython",
    "version": 2
   },
   "file_extension": ".py",
   "mimetype": "text/x-python",
   "name": "python",
   "nbconvert_exporter": "python",
   "pygments_lexer": "ipython2",
   "version": "2.7.6"
  },
  "kaggle": {
   "accelerator": "none",
   "dataSources": [
    {
     "sourceId": 8953444,
     "sourceType": "datasetVersion",
     "datasetId": 5388382
    }
   ],
   "isInternetEnabled": true,
   "language": "python",
   "sourceType": "notebook",
   "isGpuEnabled": false
  },
  "colab": {
   "provenance": []
  }
 },
 "nbformat_minor": 0,
 "nbformat": 4,
 "cells": [
  {
   "source": [
    "# IMPORTANT: RUN THIS CELL IN ORDER TO IMPORT YOUR KAGGLE DATA SOURCES,\n",
    "# THEN FEEL FREE TO DELETE THIS CELL.\n",
    "# NOTE: THIS NOTEBOOK ENVIRONMENT DIFFERS FROM KAGGLE'S PYTHON\n",
    "# ENVIRONMENT SO THERE MAY BE MISSING LIBRARIES USED BY YOUR\n",
    "# NOTEBOOK.\n",
    "import kagglehub\n",
    "litvinenko630_real_estate_saint_petersburg_2014_2019_path = kagglehub.dataset_download('litvinenko630/real-estate-saint-petersburg-2014-2019')\n",
    "\n",
    "print('Data source import complete.')\n"
   ],
   "metadata": {
    "id": "M2aWWPzGxj44",
    "ExecuteTime": {
     "end_time": "2025-06-17T08:46:04.167740Z",
     "start_time": "2025-06-17T08:46:03.842985Z"
    }
   },
   "cell_type": "code",
   "outputs": [
    {
     "name": "stdout",
     "output_type": "stream",
     "text": [
      "Data source import complete.\n"
     ]
    }
   ],
   "execution_count": 55
  },
  {
   "cell_type": "markdown",
   "source": [
    "# Introduction | Real Estate Saint-Petersburg 2014-2019"
   ],
   "metadata": {
    "id": "a651bfea3b1cce32"
   }
  },
  {
   "cell_type": "markdown",
   "source": [
    "Current dataset has been acquired from Kaggle datasets.  \n",
    "It contains info about real estate listings, including various features of properties. Source:  \n",
    "https://www.kaggle.com/datasets/litvinenko630/real-estate-saint-petersburg-2014-2019/data\n"
   ],
   "metadata": {
    "id": "9dff91a309e5ff98"
   }
  },
  {
   "cell_type": "markdown",
   "source": [
    "### Goal  \n",
    "\n",
    "Completed version of this notebook will be having a prediction baseline model able to forecast prices of real estate."
   ],
   "metadata": {
    "id": "b683b9e5b904d85e"
   }
  },
  {
   "cell_type": "markdown",
   "source": [
    "## Importing libraries, funcs & data"
   ],
   "metadata": {
    "id": "6c41b224f1ac544d"
   }
  },
  {
   "cell_type": "code",
   "source": [
    "import pandas as pd\n",
    "import numpy as np\n",
    "import seaborn as sns\n",
    "import matplotlib.pyplot as plt"
   ],
   "metadata": {
    "id": "6400b61be46acf53",
    "ExecuteTime": {
     "end_time": "2025-06-17T08:46:05.668579Z",
     "start_time": "2025-06-17T08:46:05.665935Z"
    }
   },
   "outputs": [],
   "execution_count": 56
  },
  {
   "cell_type": "code",
   "source": [
    "df = pd.read_csv(r'data/real_estate_data.csv', sep='\\t')"
   ],
   "metadata": {
    "id": "6c2719c72f7baf5",
    "ExecuteTime": {
     "end_time": "2025-06-17T08:46:06.628854Z",
     "start_time": "2025-06-17T08:46:06.586345Z"
    }
   },
   "outputs": [],
   "execution_count": 57
  },
  {
   "cell_type": "markdown",
   "source": [
    "## Data exploration"
   ],
   "metadata": {
    "id": "8b9557c8642ee6fc"
   }
  },
  {
   "cell_type": "code",
   "source": [
    "df.head()"
   ],
   "metadata": {
    "id": "9cd51a8b63fe812",
    "ExecuteTime": {
     "end_time": "2025-06-17T08:46:07.796275Z",
     "start_time": "2025-06-17T08:46:07.784848Z"
    }
   },
   "outputs": [
    {
     "data": {
      "text/plain": [
       "   total_images  last_price  total_area first_day_exposition  rooms  \\\n",
       "0            20  13000000.0       108.0  2019-03-07T00:00:00      3   \n",
       "1             7   3350000.0        40.4  2018-12-04T00:00:00      1   \n",
       "2            10   5196000.0        56.0  2015-08-20T00:00:00      2   \n",
       "3             0  64900000.0       159.0  2015-07-24T00:00:00      3   \n",
       "4             2  10000000.0       100.0  2018-06-19T00:00:00      2   \n",
       "\n",
       "   ceiling_height  floors_total  living_area  floor is_apartment  ...  \\\n",
       "0            2.70          16.0         51.0      8          NaN  ...   \n",
       "1             NaN          11.0         18.6      1          NaN  ...   \n",
       "2             NaN           5.0         34.3      4          NaN  ...   \n",
       "3             NaN          14.0          NaN      9          NaN  ...   \n",
       "4            3.03          14.0         32.0     13          NaN  ...   \n",
       "\n",
       "   kitchen_area  balcony    locality_name  airports_nearest  \\\n",
       "0          25.0      NaN  Санкт-Петербург           18863.0   \n",
       "1          11.0      2.0   посёлок Шушары           12817.0   \n",
       "2           8.3      0.0  Санкт-Петербург           21741.0   \n",
       "3           NaN      0.0  Санкт-Петербург           28098.0   \n",
       "4          41.0      NaN  Санкт-Петербург           31856.0   \n",
       "\n",
       "  cityCenters_nearest  parks_around3000  parks_nearest  ponds_around3000  \\\n",
       "0             16028.0               1.0          482.0               2.0   \n",
       "1             18603.0               0.0            NaN               0.0   \n",
       "2             13933.0               1.0           90.0               2.0   \n",
       "3              6800.0               2.0           84.0               3.0   \n",
       "4              8098.0               2.0          112.0               1.0   \n",
       "\n",
       "   ponds_nearest  days_exposition  \n",
       "0          755.0              NaN  \n",
       "1            NaN             81.0  \n",
       "2          574.0            558.0  \n",
       "3          234.0            424.0  \n",
       "4           48.0            121.0  \n",
       "\n",
       "[5 rows x 22 columns]"
      ],
      "text/html": [
       "<div>\n",
       "<style scoped>\n",
       "    .dataframe tbody tr th:only-of-type {\n",
       "        vertical-align: middle;\n",
       "    }\n",
       "\n",
       "    .dataframe tbody tr th {\n",
       "        vertical-align: top;\n",
       "    }\n",
       "\n",
       "    .dataframe thead th {\n",
       "        text-align: right;\n",
       "    }\n",
       "</style>\n",
       "<table border=\"1\" class=\"dataframe\">\n",
       "  <thead>\n",
       "    <tr style=\"text-align: right;\">\n",
       "      <th></th>\n",
       "      <th>total_images</th>\n",
       "      <th>last_price</th>\n",
       "      <th>total_area</th>\n",
       "      <th>first_day_exposition</th>\n",
       "      <th>rooms</th>\n",
       "      <th>ceiling_height</th>\n",
       "      <th>floors_total</th>\n",
       "      <th>living_area</th>\n",
       "      <th>floor</th>\n",
       "      <th>is_apartment</th>\n",
       "      <th>...</th>\n",
       "      <th>kitchen_area</th>\n",
       "      <th>balcony</th>\n",
       "      <th>locality_name</th>\n",
       "      <th>airports_nearest</th>\n",
       "      <th>cityCenters_nearest</th>\n",
       "      <th>parks_around3000</th>\n",
       "      <th>parks_nearest</th>\n",
       "      <th>ponds_around3000</th>\n",
       "      <th>ponds_nearest</th>\n",
       "      <th>days_exposition</th>\n",
       "    </tr>\n",
       "  </thead>\n",
       "  <tbody>\n",
       "    <tr>\n",
       "      <th>0</th>\n",
       "      <td>20</td>\n",
       "      <td>13000000.0</td>\n",
       "      <td>108.0</td>\n",
       "      <td>2019-03-07T00:00:00</td>\n",
       "      <td>3</td>\n",
       "      <td>2.70</td>\n",
       "      <td>16.0</td>\n",
       "      <td>51.0</td>\n",
       "      <td>8</td>\n",
       "      <td>NaN</td>\n",
       "      <td>...</td>\n",
       "      <td>25.0</td>\n",
       "      <td>NaN</td>\n",
       "      <td>Санкт-Петербург</td>\n",
       "      <td>18863.0</td>\n",
       "      <td>16028.0</td>\n",
       "      <td>1.0</td>\n",
       "      <td>482.0</td>\n",
       "      <td>2.0</td>\n",
       "      <td>755.0</td>\n",
       "      <td>NaN</td>\n",
       "    </tr>\n",
       "    <tr>\n",
       "      <th>1</th>\n",
       "      <td>7</td>\n",
       "      <td>3350000.0</td>\n",
       "      <td>40.4</td>\n",
       "      <td>2018-12-04T00:00:00</td>\n",
       "      <td>1</td>\n",
       "      <td>NaN</td>\n",
       "      <td>11.0</td>\n",
       "      <td>18.6</td>\n",
       "      <td>1</td>\n",
       "      <td>NaN</td>\n",
       "      <td>...</td>\n",
       "      <td>11.0</td>\n",
       "      <td>2.0</td>\n",
       "      <td>посёлок Шушары</td>\n",
       "      <td>12817.0</td>\n",
       "      <td>18603.0</td>\n",
       "      <td>0.0</td>\n",
       "      <td>NaN</td>\n",
       "      <td>0.0</td>\n",
       "      <td>NaN</td>\n",
       "      <td>81.0</td>\n",
       "    </tr>\n",
       "    <tr>\n",
       "      <th>2</th>\n",
       "      <td>10</td>\n",
       "      <td>5196000.0</td>\n",
       "      <td>56.0</td>\n",
       "      <td>2015-08-20T00:00:00</td>\n",
       "      <td>2</td>\n",
       "      <td>NaN</td>\n",
       "      <td>5.0</td>\n",
       "      <td>34.3</td>\n",
       "      <td>4</td>\n",
       "      <td>NaN</td>\n",
       "      <td>...</td>\n",
       "      <td>8.3</td>\n",
       "      <td>0.0</td>\n",
       "      <td>Санкт-Петербург</td>\n",
       "      <td>21741.0</td>\n",
       "      <td>13933.0</td>\n",
       "      <td>1.0</td>\n",
       "      <td>90.0</td>\n",
       "      <td>2.0</td>\n",
       "      <td>574.0</td>\n",
       "      <td>558.0</td>\n",
       "    </tr>\n",
       "    <tr>\n",
       "      <th>3</th>\n",
       "      <td>0</td>\n",
       "      <td>64900000.0</td>\n",
       "      <td>159.0</td>\n",
       "      <td>2015-07-24T00:00:00</td>\n",
       "      <td>3</td>\n",
       "      <td>NaN</td>\n",
       "      <td>14.0</td>\n",
       "      <td>NaN</td>\n",
       "      <td>9</td>\n",
       "      <td>NaN</td>\n",
       "      <td>...</td>\n",
       "      <td>NaN</td>\n",
       "      <td>0.0</td>\n",
       "      <td>Санкт-Петербург</td>\n",
       "      <td>28098.0</td>\n",
       "      <td>6800.0</td>\n",
       "      <td>2.0</td>\n",
       "      <td>84.0</td>\n",
       "      <td>3.0</td>\n",
       "      <td>234.0</td>\n",
       "      <td>424.0</td>\n",
       "    </tr>\n",
       "    <tr>\n",
       "      <th>4</th>\n",
       "      <td>2</td>\n",
       "      <td>10000000.0</td>\n",
       "      <td>100.0</td>\n",
       "      <td>2018-06-19T00:00:00</td>\n",
       "      <td>2</td>\n",
       "      <td>3.03</td>\n",
       "      <td>14.0</td>\n",
       "      <td>32.0</td>\n",
       "      <td>13</td>\n",
       "      <td>NaN</td>\n",
       "      <td>...</td>\n",
       "      <td>41.0</td>\n",
       "      <td>NaN</td>\n",
       "      <td>Санкт-Петербург</td>\n",
       "      <td>31856.0</td>\n",
       "      <td>8098.0</td>\n",
       "      <td>2.0</td>\n",
       "      <td>112.0</td>\n",
       "      <td>1.0</td>\n",
       "      <td>48.0</td>\n",
       "      <td>121.0</td>\n",
       "    </tr>\n",
       "  </tbody>\n",
       "</table>\n",
       "<p>5 rows × 22 columns</p>\n",
       "</div>"
      ]
     },
     "execution_count": 58,
     "metadata": {},
     "output_type": "execute_result"
    }
   ],
   "execution_count": 58
  },
  {
   "cell_type": "code",
   "source": [
    "df.info()"
   ],
   "metadata": {
    "id": "5c98df74c4f78ada",
    "ExecuteTime": {
     "end_time": "2025-06-17T08:46:09.344419Z",
     "start_time": "2025-06-17T08:46:09.336528Z"
    }
   },
   "outputs": [
    {
     "name": "stdout",
     "output_type": "stream",
     "text": [
      "<class 'pandas.core.frame.DataFrame'>\n",
      "RangeIndex: 23699 entries, 0 to 23698\n",
      "Data columns (total 22 columns):\n",
      " #   Column                Non-Null Count  Dtype  \n",
      "---  ------                --------------  -----  \n",
      " 0   total_images          23699 non-null  int64  \n",
      " 1   last_price            23699 non-null  float64\n",
      " 2   total_area            23699 non-null  float64\n",
      " 3   first_day_exposition  23699 non-null  object \n",
      " 4   rooms                 23699 non-null  int64  \n",
      " 5   ceiling_height        14504 non-null  float64\n",
      " 6   floors_total          23613 non-null  float64\n",
      " 7   living_area           21796 non-null  float64\n",
      " 8   floor                 23699 non-null  int64  \n",
      " 9   is_apartment          2775 non-null   object \n",
      " 10  studio                23699 non-null  bool   \n",
      " 11  open_plan             23699 non-null  bool   \n",
      " 12  kitchen_area          21421 non-null  float64\n",
      " 13  balcony               12180 non-null  float64\n",
      " 14  locality_name         23650 non-null  object \n",
      " 15  airports_nearest      18157 non-null  float64\n",
      " 16  cityCenters_nearest   18180 non-null  float64\n",
      " 17  parks_around3000      18181 non-null  float64\n",
      " 18  parks_nearest         8079 non-null   float64\n",
      " 19  ponds_around3000      18181 non-null  float64\n",
      " 20  ponds_nearest         9110 non-null   float64\n",
      " 21  days_exposition       20518 non-null  float64\n",
      "dtypes: bool(2), float64(14), int64(3), object(3)\n",
      "memory usage: 3.7+ MB\n"
     ]
    }
   ],
   "execution_count": 59
  },
  {
   "cell_type": "code",
   "source": [
    "df.describe().round(decimals=2)"
   ],
   "metadata": {
    "id": "779eb8a677b88dcc",
    "ExecuteTime": {
     "end_time": "2025-06-17T08:46:11.017782Z",
     "start_time": "2025-06-17T08:46:10.986155Z"
    }
   },
   "outputs": [
    {
     "data": {
      "text/plain": [
       "       total_images    last_price  total_area     rooms  ceiling_height  \\\n",
       "count      23699.00  2.369900e+04    23699.00  23699.00        14504.00   \n",
       "mean           9.86  6.541549e+06       60.35      2.07            2.77   \n",
       "std            5.68  1.088701e+07       35.65      1.08            1.26   \n",
       "min            0.00  1.219000e+04       12.00      0.00            1.00   \n",
       "25%            6.00  3.400000e+06       40.00      1.00            2.52   \n",
       "50%            9.00  4.650000e+06       52.00      2.00            2.65   \n",
       "75%           14.00  6.800000e+06       69.90      3.00            2.80   \n",
       "max           50.00  7.630000e+08      900.00     19.00          100.00   \n",
       "\n",
       "       floors_total  living_area     floor  kitchen_area   balcony  \\\n",
       "count      23613.00     21796.00  23699.00      21421.00  12180.00   \n",
       "mean          10.67        34.46      5.89         10.57      1.15   \n",
       "std            6.60        22.03      4.89          5.91      1.07   \n",
       "min            1.00         2.00      1.00          1.30      0.00   \n",
       "25%            5.00        18.60      2.00          7.00      0.00   \n",
       "50%            9.00        30.00      4.00          9.10      1.00   \n",
       "75%           16.00        42.30      8.00         12.00      2.00   \n",
       "max           60.00       409.70     33.00        112.00      5.00   \n",
       "\n",
       "       airports_nearest  cityCenters_nearest  parks_around3000  parks_nearest  \\\n",
       "count          18157.00             18180.00          18181.00        8079.00   \n",
       "mean           28793.67             14191.28              0.61         490.80   \n",
       "std            12630.88              8608.39              0.80         342.32   \n",
       "min                0.00               181.00              0.00           1.00   \n",
       "25%            18585.00              9238.00              0.00         288.00   \n",
       "50%            26726.00             13098.50              0.00         455.00   \n",
       "75%            37273.00             16293.00              1.00         612.00   \n",
       "max            84869.00             65968.00              3.00        3190.00   \n",
       "\n",
       "       ponds_around3000  ponds_nearest  days_exposition  \n",
       "count          18181.00        9110.00         20518.00  \n",
       "mean               0.77         517.98           180.89  \n",
       "std                0.94         277.72           219.73  \n",
       "min                0.00          13.00             1.00  \n",
       "25%                0.00         294.00            45.00  \n",
       "50%                1.00         502.00            95.00  \n",
       "75%                1.00         729.00           232.00  \n",
       "max                3.00        1344.00          1580.00  "
      ],
      "text/html": [
       "<div>\n",
       "<style scoped>\n",
       "    .dataframe tbody tr th:only-of-type {\n",
       "        vertical-align: middle;\n",
       "    }\n",
       "\n",
       "    .dataframe tbody tr th {\n",
       "        vertical-align: top;\n",
       "    }\n",
       "\n",
       "    .dataframe thead th {\n",
       "        text-align: right;\n",
       "    }\n",
       "</style>\n",
       "<table border=\"1\" class=\"dataframe\">\n",
       "  <thead>\n",
       "    <tr style=\"text-align: right;\">\n",
       "      <th></th>\n",
       "      <th>total_images</th>\n",
       "      <th>last_price</th>\n",
       "      <th>total_area</th>\n",
       "      <th>rooms</th>\n",
       "      <th>ceiling_height</th>\n",
       "      <th>floors_total</th>\n",
       "      <th>living_area</th>\n",
       "      <th>floor</th>\n",
       "      <th>kitchen_area</th>\n",
       "      <th>balcony</th>\n",
       "      <th>airports_nearest</th>\n",
       "      <th>cityCenters_nearest</th>\n",
       "      <th>parks_around3000</th>\n",
       "      <th>parks_nearest</th>\n",
       "      <th>ponds_around3000</th>\n",
       "      <th>ponds_nearest</th>\n",
       "      <th>days_exposition</th>\n",
       "    </tr>\n",
       "  </thead>\n",
       "  <tbody>\n",
       "    <tr>\n",
       "      <th>count</th>\n",
       "      <td>23699.00</td>\n",
       "      <td>2.369900e+04</td>\n",
       "      <td>23699.00</td>\n",
       "      <td>23699.00</td>\n",
       "      <td>14504.00</td>\n",
       "      <td>23613.00</td>\n",
       "      <td>21796.00</td>\n",
       "      <td>23699.00</td>\n",
       "      <td>21421.00</td>\n",
       "      <td>12180.00</td>\n",
       "      <td>18157.00</td>\n",
       "      <td>18180.00</td>\n",
       "      <td>18181.00</td>\n",
       "      <td>8079.00</td>\n",
       "      <td>18181.00</td>\n",
       "      <td>9110.00</td>\n",
       "      <td>20518.00</td>\n",
       "    </tr>\n",
       "    <tr>\n",
       "      <th>mean</th>\n",
       "      <td>9.86</td>\n",
       "      <td>6.541549e+06</td>\n",
       "      <td>60.35</td>\n",
       "      <td>2.07</td>\n",
       "      <td>2.77</td>\n",
       "      <td>10.67</td>\n",
       "      <td>34.46</td>\n",
       "      <td>5.89</td>\n",
       "      <td>10.57</td>\n",
       "      <td>1.15</td>\n",
       "      <td>28793.67</td>\n",
       "      <td>14191.28</td>\n",
       "      <td>0.61</td>\n",
       "      <td>490.80</td>\n",
       "      <td>0.77</td>\n",
       "      <td>517.98</td>\n",
       "      <td>180.89</td>\n",
       "    </tr>\n",
       "    <tr>\n",
       "      <th>std</th>\n",
       "      <td>5.68</td>\n",
       "      <td>1.088701e+07</td>\n",
       "      <td>35.65</td>\n",
       "      <td>1.08</td>\n",
       "      <td>1.26</td>\n",
       "      <td>6.60</td>\n",
       "      <td>22.03</td>\n",
       "      <td>4.89</td>\n",
       "      <td>5.91</td>\n",
       "      <td>1.07</td>\n",
       "      <td>12630.88</td>\n",
       "      <td>8608.39</td>\n",
       "      <td>0.80</td>\n",
       "      <td>342.32</td>\n",
       "      <td>0.94</td>\n",
       "      <td>277.72</td>\n",
       "      <td>219.73</td>\n",
       "    </tr>\n",
       "    <tr>\n",
       "      <th>min</th>\n",
       "      <td>0.00</td>\n",
       "      <td>1.219000e+04</td>\n",
       "      <td>12.00</td>\n",
       "      <td>0.00</td>\n",
       "      <td>1.00</td>\n",
       "      <td>1.00</td>\n",
       "      <td>2.00</td>\n",
       "      <td>1.00</td>\n",
       "      <td>1.30</td>\n",
       "      <td>0.00</td>\n",
       "      <td>0.00</td>\n",
       "      <td>181.00</td>\n",
       "      <td>0.00</td>\n",
       "      <td>1.00</td>\n",
       "      <td>0.00</td>\n",
       "      <td>13.00</td>\n",
       "      <td>1.00</td>\n",
       "    </tr>\n",
       "    <tr>\n",
       "      <th>25%</th>\n",
       "      <td>6.00</td>\n",
       "      <td>3.400000e+06</td>\n",
       "      <td>40.00</td>\n",
       "      <td>1.00</td>\n",
       "      <td>2.52</td>\n",
       "      <td>5.00</td>\n",
       "      <td>18.60</td>\n",
       "      <td>2.00</td>\n",
       "      <td>7.00</td>\n",
       "      <td>0.00</td>\n",
       "      <td>18585.00</td>\n",
       "      <td>9238.00</td>\n",
       "      <td>0.00</td>\n",
       "      <td>288.00</td>\n",
       "      <td>0.00</td>\n",
       "      <td>294.00</td>\n",
       "      <td>45.00</td>\n",
       "    </tr>\n",
       "    <tr>\n",
       "      <th>50%</th>\n",
       "      <td>9.00</td>\n",
       "      <td>4.650000e+06</td>\n",
       "      <td>52.00</td>\n",
       "      <td>2.00</td>\n",
       "      <td>2.65</td>\n",
       "      <td>9.00</td>\n",
       "      <td>30.00</td>\n",
       "      <td>4.00</td>\n",
       "      <td>9.10</td>\n",
       "      <td>1.00</td>\n",
       "      <td>26726.00</td>\n",
       "      <td>13098.50</td>\n",
       "      <td>0.00</td>\n",
       "      <td>455.00</td>\n",
       "      <td>1.00</td>\n",
       "      <td>502.00</td>\n",
       "      <td>95.00</td>\n",
       "    </tr>\n",
       "    <tr>\n",
       "      <th>75%</th>\n",
       "      <td>14.00</td>\n",
       "      <td>6.800000e+06</td>\n",
       "      <td>69.90</td>\n",
       "      <td>3.00</td>\n",
       "      <td>2.80</td>\n",
       "      <td>16.00</td>\n",
       "      <td>42.30</td>\n",
       "      <td>8.00</td>\n",
       "      <td>12.00</td>\n",
       "      <td>2.00</td>\n",
       "      <td>37273.00</td>\n",
       "      <td>16293.00</td>\n",
       "      <td>1.00</td>\n",
       "      <td>612.00</td>\n",
       "      <td>1.00</td>\n",
       "      <td>729.00</td>\n",
       "      <td>232.00</td>\n",
       "    </tr>\n",
       "    <tr>\n",
       "      <th>max</th>\n",
       "      <td>50.00</td>\n",
       "      <td>7.630000e+08</td>\n",
       "      <td>900.00</td>\n",
       "      <td>19.00</td>\n",
       "      <td>100.00</td>\n",
       "      <td>60.00</td>\n",
       "      <td>409.70</td>\n",
       "      <td>33.00</td>\n",
       "      <td>112.00</td>\n",
       "      <td>5.00</td>\n",
       "      <td>84869.00</td>\n",
       "      <td>65968.00</td>\n",
       "      <td>3.00</td>\n",
       "      <td>3190.00</td>\n",
       "      <td>3.00</td>\n",
       "      <td>1344.00</td>\n",
       "      <td>1580.00</td>\n",
       "    </tr>\n",
       "  </tbody>\n",
       "</table>\n",
       "</div>"
      ]
     },
     "execution_count": 60,
     "metadata": {},
     "output_type": "execute_result"
    }
   ],
   "execution_count": 60
  },
  {
   "cell_type": "code",
   "source": "df.isna().sum().sort_values(ascending=False)",
   "metadata": {
    "id": "4eebcc89bd8832f4",
    "ExecuteTime": {
     "end_time": "2025-06-17T08:46:12.602031Z",
     "start_time": "2025-06-17T08:46:12.596014Z"
    }
   },
   "outputs": [
    {
     "data": {
      "text/plain": [
       "is_apartment            20924\n",
       "parks_nearest           15620\n",
       "ponds_nearest           14589\n",
       "balcony                 11519\n",
       "ceiling_height           9195\n",
       "airports_nearest         5542\n",
       "cityCenters_nearest      5519\n",
       "ponds_around3000         5518\n",
       "parks_around3000         5518\n",
       "days_exposition          3181\n",
       "kitchen_area             2278\n",
       "living_area              1903\n",
       "floors_total               86\n",
       "locality_name              49\n",
       "total_images                0\n",
       "last_price                  0\n",
       "studio                      0\n",
       "floor                       0\n",
       "rooms                       0\n",
       "first_day_exposition        0\n",
       "total_area                  0\n",
       "open_plan                   0\n",
       "dtype: int64"
      ]
     },
     "execution_count": 61,
     "metadata": {},
     "output_type": "execute_result"
    }
   ],
   "execution_count": 61
  },
  {
   "cell_type": "code",
   "source": "df.head()",
   "metadata": {
    "id": "ef66d3e3aaa2d993",
    "ExecuteTime": {
     "end_time": "2025-06-17T08:46:13.721728Z",
     "start_time": "2025-06-17T08:46:13.710834Z"
    }
   },
   "outputs": [
    {
     "data": {
      "text/plain": [
       "   total_images  last_price  total_area first_day_exposition  rooms  \\\n",
       "0            20  13000000.0       108.0  2019-03-07T00:00:00      3   \n",
       "1             7   3350000.0        40.4  2018-12-04T00:00:00      1   \n",
       "2            10   5196000.0        56.0  2015-08-20T00:00:00      2   \n",
       "3             0  64900000.0       159.0  2015-07-24T00:00:00      3   \n",
       "4             2  10000000.0       100.0  2018-06-19T00:00:00      2   \n",
       "\n",
       "   ceiling_height  floors_total  living_area  floor is_apartment  ...  \\\n",
       "0            2.70          16.0         51.0      8          NaN  ...   \n",
       "1             NaN          11.0         18.6      1          NaN  ...   \n",
       "2             NaN           5.0         34.3      4          NaN  ...   \n",
       "3             NaN          14.0          NaN      9          NaN  ...   \n",
       "4            3.03          14.0         32.0     13          NaN  ...   \n",
       "\n",
       "   kitchen_area  balcony    locality_name  airports_nearest  \\\n",
       "0          25.0      NaN  Санкт-Петербург           18863.0   \n",
       "1          11.0      2.0   посёлок Шушары           12817.0   \n",
       "2           8.3      0.0  Санкт-Петербург           21741.0   \n",
       "3           NaN      0.0  Санкт-Петербург           28098.0   \n",
       "4          41.0      NaN  Санкт-Петербург           31856.0   \n",
       "\n",
       "  cityCenters_nearest  parks_around3000  parks_nearest  ponds_around3000  \\\n",
       "0             16028.0               1.0          482.0               2.0   \n",
       "1             18603.0               0.0            NaN               0.0   \n",
       "2             13933.0               1.0           90.0               2.0   \n",
       "3              6800.0               2.0           84.0               3.0   \n",
       "4              8098.0               2.0          112.0               1.0   \n",
       "\n",
       "   ponds_nearest  days_exposition  \n",
       "0          755.0              NaN  \n",
       "1            NaN             81.0  \n",
       "2          574.0            558.0  \n",
       "3          234.0            424.0  \n",
       "4           48.0            121.0  \n",
       "\n",
       "[5 rows x 22 columns]"
      ],
      "text/html": [
       "<div>\n",
       "<style scoped>\n",
       "    .dataframe tbody tr th:only-of-type {\n",
       "        vertical-align: middle;\n",
       "    }\n",
       "\n",
       "    .dataframe tbody tr th {\n",
       "        vertical-align: top;\n",
       "    }\n",
       "\n",
       "    .dataframe thead th {\n",
       "        text-align: right;\n",
       "    }\n",
       "</style>\n",
       "<table border=\"1\" class=\"dataframe\">\n",
       "  <thead>\n",
       "    <tr style=\"text-align: right;\">\n",
       "      <th></th>\n",
       "      <th>total_images</th>\n",
       "      <th>last_price</th>\n",
       "      <th>total_area</th>\n",
       "      <th>first_day_exposition</th>\n",
       "      <th>rooms</th>\n",
       "      <th>ceiling_height</th>\n",
       "      <th>floors_total</th>\n",
       "      <th>living_area</th>\n",
       "      <th>floor</th>\n",
       "      <th>is_apartment</th>\n",
       "      <th>...</th>\n",
       "      <th>kitchen_area</th>\n",
       "      <th>balcony</th>\n",
       "      <th>locality_name</th>\n",
       "      <th>airports_nearest</th>\n",
       "      <th>cityCenters_nearest</th>\n",
       "      <th>parks_around3000</th>\n",
       "      <th>parks_nearest</th>\n",
       "      <th>ponds_around3000</th>\n",
       "      <th>ponds_nearest</th>\n",
       "      <th>days_exposition</th>\n",
       "    </tr>\n",
       "  </thead>\n",
       "  <tbody>\n",
       "    <tr>\n",
       "      <th>0</th>\n",
       "      <td>20</td>\n",
       "      <td>13000000.0</td>\n",
       "      <td>108.0</td>\n",
       "      <td>2019-03-07T00:00:00</td>\n",
       "      <td>3</td>\n",
       "      <td>2.70</td>\n",
       "      <td>16.0</td>\n",
       "      <td>51.0</td>\n",
       "      <td>8</td>\n",
       "      <td>NaN</td>\n",
       "      <td>...</td>\n",
       "      <td>25.0</td>\n",
       "      <td>NaN</td>\n",
       "      <td>Санкт-Петербург</td>\n",
       "      <td>18863.0</td>\n",
       "      <td>16028.0</td>\n",
       "      <td>1.0</td>\n",
       "      <td>482.0</td>\n",
       "      <td>2.0</td>\n",
       "      <td>755.0</td>\n",
       "      <td>NaN</td>\n",
       "    </tr>\n",
       "    <tr>\n",
       "      <th>1</th>\n",
       "      <td>7</td>\n",
       "      <td>3350000.0</td>\n",
       "      <td>40.4</td>\n",
       "      <td>2018-12-04T00:00:00</td>\n",
       "      <td>1</td>\n",
       "      <td>NaN</td>\n",
       "      <td>11.0</td>\n",
       "      <td>18.6</td>\n",
       "      <td>1</td>\n",
       "      <td>NaN</td>\n",
       "      <td>...</td>\n",
       "      <td>11.0</td>\n",
       "      <td>2.0</td>\n",
       "      <td>посёлок Шушары</td>\n",
       "      <td>12817.0</td>\n",
       "      <td>18603.0</td>\n",
       "      <td>0.0</td>\n",
       "      <td>NaN</td>\n",
       "      <td>0.0</td>\n",
       "      <td>NaN</td>\n",
       "      <td>81.0</td>\n",
       "    </tr>\n",
       "    <tr>\n",
       "      <th>2</th>\n",
       "      <td>10</td>\n",
       "      <td>5196000.0</td>\n",
       "      <td>56.0</td>\n",
       "      <td>2015-08-20T00:00:00</td>\n",
       "      <td>2</td>\n",
       "      <td>NaN</td>\n",
       "      <td>5.0</td>\n",
       "      <td>34.3</td>\n",
       "      <td>4</td>\n",
       "      <td>NaN</td>\n",
       "      <td>...</td>\n",
       "      <td>8.3</td>\n",
       "      <td>0.0</td>\n",
       "      <td>Санкт-Петербург</td>\n",
       "      <td>21741.0</td>\n",
       "      <td>13933.0</td>\n",
       "      <td>1.0</td>\n",
       "      <td>90.0</td>\n",
       "      <td>2.0</td>\n",
       "      <td>574.0</td>\n",
       "      <td>558.0</td>\n",
       "    </tr>\n",
       "    <tr>\n",
       "      <th>3</th>\n",
       "      <td>0</td>\n",
       "      <td>64900000.0</td>\n",
       "      <td>159.0</td>\n",
       "      <td>2015-07-24T00:00:00</td>\n",
       "      <td>3</td>\n",
       "      <td>NaN</td>\n",
       "      <td>14.0</td>\n",
       "      <td>NaN</td>\n",
       "      <td>9</td>\n",
       "      <td>NaN</td>\n",
       "      <td>...</td>\n",
       "      <td>NaN</td>\n",
       "      <td>0.0</td>\n",
       "      <td>Санкт-Петербург</td>\n",
       "      <td>28098.0</td>\n",
       "      <td>6800.0</td>\n",
       "      <td>2.0</td>\n",
       "      <td>84.0</td>\n",
       "      <td>3.0</td>\n",
       "      <td>234.0</td>\n",
       "      <td>424.0</td>\n",
       "    </tr>\n",
       "    <tr>\n",
       "      <th>4</th>\n",
       "      <td>2</td>\n",
       "      <td>10000000.0</td>\n",
       "      <td>100.0</td>\n",
       "      <td>2018-06-19T00:00:00</td>\n",
       "      <td>2</td>\n",
       "      <td>3.03</td>\n",
       "      <td>14.0</td>\n",
       "      <td>32.0</td>\n",
       "      <td>13</td>\n",
       "      <td>NaN</td>\n",
       "      <td>...</td>\n",
       "      <td>41.0</td>\n",
       "      <td>NaN</td>\n",
       "      <td>Санкт-Петербург</td>\n",
       "      <td>31856.0</td>\n",
       "      <td>8098.0</td>\n",
       "      <td>2.0</td>\n",
       "      <td>112.0</td>\n",
       "      <td>1.0</td>\n",
       "      <td>48.0</td>\n",
       "      <td>121.0</td>\n",
       "    </tr>\n",
       "  </tbody>\n",
       "</table>\n",
       "<p>5 rows × 22 columns</p>\n",
       "</div>"
      ]
     },
     "execution_count": 62,
     "metadata": {},
     "output_type": "execute_result"
    }
   ],
   "execution_count": 62
  },
  {
   "cell_type": "code",
   "source": "df.duplicated().sum()",
   "metadata": {
    "id": "d558f591cc292d99",
    "ExecuteTime": {
     "end_time": "2025-06-17T08:46:15.091225Z",
     "start_time": "2025-06-17T08:46:15.077945Z"
    }
   },
   "outputs": [
    {
     "data": {
      "text/plain": [
       "0"
      ]
     },
     "execution_count": 63,
     "metadata": {},
     "output_type": "execute_result"
    }
   ],
   "execution_count": 63
  },
  {
   "cell_type": "code",
   "source": [
    "df.nunique().sort_values()"
   ],
   "metadata": {
    "id": "f4bb8dda05ac95ed",
    "ExecuteTime": {
     "end_time": "2025-06-17T08:46:16.160920Z",
     "start_time": "2025-06-17T08:46:16.149993Z"
    }
   },
   "outputs": [
    {
     "data": {
      "text/plain": [
       "studio                     2\n",
       "open_plan                  2\n",
       "is_apartment               2\n",
       "ponds_around3000           4\n",
       "parks_around3000           4\n",
       "balcony                    6\n",
       "rooms                     17\n",
       "floor                     33\n",
       "floors_total              36\n",
       "total_images              38\n",
       "ceiling_height           183\n",
       "locality_name            364\n",
       "kitchen_area             971\n",
       "parks_nearest            995\n",
       "ponds_nearest           1096\n",
       "days_exposition         1141\n",
       "first_day_exposition    1491\n",
       "living_area             1782\n",
       "total_area              2182\n",
       "last_price              2978\n",
       "cityCenters_nearest     7642\n",
       "airports_nearest        8275\n",
       "dtype: int64"
      ]
     },
     "execution_count": 64,
     "metadata": {},
     "output_type": "execute_result"
    }
   ],
   "execution_count": 64
  },
  {
   "cell_type": "code",
   "source": "df.dtypes",
   "metadata": {
    "id": "744566ce3e5a009d",
    "ExecuteTime": {
     "end_time": "2025-06-17T08:46:17.636339Z",
     "start_time": "2025-06-17T08:46:17.631538Z"
    }
   },
   "outputs": [
    {
     "data": {
      "text/plain": [
       "total_images              int64\n",
       "last_price              float64\n",
       "total_area              float64\n",
       "first_day_exposition     object\n",
       "rooms                     int64\n",
       "ceiling_height          float64\n",
       "floors_total            float64\n",
       "living_area             float64\n",
       "floor                     int64\n",
       "is_apartment             object\n",
       "studio                     bool\n",
       "open_plan                  bool\n",
       "kitchen_area            float64\n",
       "balcony                 float64\n",
       "locality_name            object\n",
       "airports_nearest        float64\n",
       "cityCenters_nearest     float64\n",
       "parks_around3000        float64\n",
       "parks_nearest           float64\n",
       "ponds_around3000        float64\n",
       "ponds_nearest           float64\n",
       "days_exposition         float64\n",
       "dtype: object"
      ]
     },
     "execution_count": 65,
     "metadata": {},
     "output_type": "execute_result"
    }
   ],
   "execution_count": 65
  },
  {
   "cell_type": "code",
   "source": [
    "df.shape"
   ],
   "metadata": {
    "id": "26eaaf4d60c37016",
    "ExecuteTime": {
     "end_time": "2025-06-17T08:46:19.056841Z",
     "start_time": "2025-06-17T08:46:19.053126Z"
    }
   },
   "outputs": [
    {
     "data": {
      "text/plain": [
       "(23699, 22)"
      ]
     },
     "execution_count": 66,
     "metadata": {},
     "output_type": "execute_result"
    }
   ],
   "execution_count": 66
  },
  {
   "cell_type": "markdown",
   "source": [
    "## Data Preprocessing"
   ],
   "metadata": {
    "id": "cbafcfd3e5f2b27"
   }
  },
  {
   "cell_type": "code",
   "source": "df['last_price'].sort_values()",
   "metadata": {
    "id": "1e06aa02b692493c",
    "ExecuteTime": {
     "end_time": "2025-06-17T08:46:20.380203Z",
     "start_time": "2025-06-17T08:46:20.374651Z"
    }
   },
   "outputs": [
    {
     "data": {
      "text/plain": [
       "8793         12190.0\n",
       "17456       430000.0\n",
       "14911       430000.0\n",
       "16274       440000.0\n",
       "17676       450000.0\n",
       "            ...     \n",
       "15651    300000000.0\n",
       "1436     330000000.0\n",
       "14706    401300000.0\n",
       "19540    420000000.0\n",
       "12971    763000000.0\n",
       "Name: last_price, Length: 23699, dtype: float64"
      ]
     },
     "execution_count": 67,
     "metadata": {},
     "output_type": "execute_result"
    }
   ],
   "execution_count": 67
  },
  {
   "cell_type": "markdown",
   "source": [
    "\n",
    "\n",
    "\n",
    "\n",
    "There's an anomaly low last price that has to be corrected"
   ],
   "metadata": {
    "id": "2e4145f4e7805ab9"
   }
  },
  {
   "cell_type": "code",
   "source": [
    "df.query('last_price==12190.0')"
   ],
   "metadata": {
    "id": "7a1d9bcfae993e9e",
    "ExecuteTime": {
     "end_time": "2025-06-17T08:46:21.806289Z",
     "start_time": "2025-06-17T08:46:21.795488Z"
    }
   },
   "outputs": [
    {
     "data": {
      "text/plain": [
       "      total_images  last_price  total_area first_day_exposition  rooms  \\\n",
       "8793             7     12190.0       109.0  2019-03-20T00:00:00      2   \n",
       "\n",
       "      ceiling_height  floors_total  living_area  floor is_apartment  ...  \\\n",
       "8793            2.75          25.0         32.0     25          NaN  ...   \n",
       "\n",
       "      kitchen_area  balcony    locality_name  airports_nearest  \\\n",
       "8793          40.5      NaN  Санкт-Петербург           36421.0   \n",
       "\n",
       "     cityCenters_nearest  parks_around3000  parks_nearest  ponds_around3000  \\\n",
       "8793              9176.0               1.0          805.0               0.0   \n",
       "\n",
       "      ponds_nearest  days_exposition  \n",
       "8793            NaN              8.0  \n",
       "\n",
       "[1 rows x 22 columns]"
      ],
      "text/html": [
       "<div>\n",
       "<style scoped>\n",
       "    .dataframe tbody tr th:only-of-type {\n",
       "        vertical-align: middle;\n",
       "    }\n",
       "\n",
       "    .dataframe tbody tr th {\n",
       "        vertical-align: top;\n",
       "    }\n",
       "\n",
       "    .dataframe thead th {\n",
       "        text-align: right;\n",
       "    }\n",
       "</style>\n",
       "<table border=\"1\" class=\"dataframe\">\n",
       "  <thead>\n",
       "    <tr style=\"text-align: right;\">\n",
       "      <th></th>\n",
       "      <th>total_images</th>\n",
       "      <th>last_price</th>\n",
       "      <th>total_area</th>\n",
       "      <th>first_day_exposition</th>\n",
       "      <th>rooms</th>\n",
       "      <th>ceiling_height</th>\n",
       "      <th>floors_total</th>\n",
       "      <th>living_area</th>\n",
       "      <th>floor</th>\n",
       "      <th>is_apartment</th>\n",
       "      <th>...</th>\n",
       "      <th>kitchen_area</th>\n",
       "      <th>balcony</th>\n",
       "      <th>locality_name</th>\n",
       "      <th>airports_nearest</th>\n",
       "      <th>cityCenters_nearest</th>\n",
       "      <th>parks_around3000</th>\n",
       "      <th>parks_nearest</th>\n",
       "      <th>ponds_around3000</th>\n",
       "      <th>ponds_nearest</th>\n",
       "      <th>days_exposition</th>\n",
       "    </tr>\n",
       "  </thead>\n",
       "  <tbody>\n",
       "    <tr>\n",
       "      <th>8793</th>\n",
       "      <td>7</td>\n",
       "      <td>12190.0</td>\n",
       "      <td>109.0</td>\n",
       "      <td>2019-03-20T00:00:00</td>\n",
       "      <td>2</td>\n",
       "      <td>2.75</td>\n",
       "      <td>25.0</td>\n",
       "      <td>32.0</td>\n",
       "      <td>25</td>\n",
       "      <td>NaN</td>\n",
       "      <td>...</td>\n",
       "      <td>40.5</td>\n",
       "      <td>NaN</td>\n",
       "      <td>Санкт-Петербург</td>\n",
       "      <td>36421.0</td>\n",
       "      <td>9176.0</td>\n",
       "      <td>1.0</td>\n",
       "      <td>805.0</td>\n",
       "      <td>0.0</td>\n",
       "      <td>NaN</td>\n",
       "      <td>8.0</td>\n",
       "    </tr>\n",
       "  </tbody>\n",
       "</table>\n",
       "<p>1 rows × 22 columns</p>\n",
       "</div>"
      ]
     },
     "execution_count": 68,
     "metadata": {},
     "output_type": "execute_result"
    }
   ],
   "execution_count": 68
  },
  {
   "cell_type": "code",
   "source": [
    "min_value = min(df['last_price'])\n",
    "df.loc[df['last_price']==min_value, 'last_price'] = int(min_value*100)"
   ],
   "metadata": {
    "id": "7b17379ef19f00fc",
    "ExecuteTime": {
     "end_time": "2025-06-17T08:46:23.244843Z",
     "start_time": "2025-06-17T08:46:23.240961Z"
    }
   },
   "outputs": [],
   "execution_count": 69
  },
  {
   "cell_type": "code",
   "source": "df[df['ponds_nearest'].isna()][ 'ponds_around3000'].value_counts()",
   "metadata": {
    "id": "c5fc5be889087c1c",
    "ExecuteTime": {
     "end_time": "2025-06-17T08:46:24.101058Z",
     "start_time": "2025-06-17T08:46:24.093542Z"
    }
   },
   "outputs": [
    {
     "data": {
      "text/plain": [
       "ponds_around3000\n",
       "0.0    9071\n",
       "Name: count, dtype: int64"
      ]
     },
     "execution_count": 70,
     "metadata": {},
     "output_type": "execute_result"
    }
   ],
   "execution_count": 70
  },
  {
   "cell_type": "code",
   "source": "df[df['parks_nearest'].isna()][ 'parks_around3000'].value_counts()",
   "metadata": {
    "id": "698e4d781fe518d7",
    "ExecuteTime": {
     "end_time": "2025-06-17T08:46:26.037443Z",
     "start_time": "2025-06-17T08:46:26.031288Z"
    }
   },
   "outputs": [
    {
     "data": {
      "text/plain": [
       "parks_around3000\n",
       "0.0    10102\n",
       "Name: count, dtype: int64"
      ]
     },
     "execution_count": 71,
     "metadata": {},
     "output_type": "execute_result"
    }
   ],
   "execution_count": 71
  },
  {
   "cell_type": "code",
   "source": [
    "features_to_compare = ['airports_nearest', 'cityCenters_nearest']\n",
    "\n",
    "df[features_to_compare] = df[features_to_compare].fillna(0)"
   ],
   "metadata": {
    "id": "c893070970fed613",
    "ExecuteTime": {
     "end_time": "2025-06-17T08:46:27.187145Z",
     "start_time": "2025-06-17T08:46:27.182216Z"
    }
   },
   "outputs": [],
   "execution_count": 72
  },
  {
   "cell_type": "code",
   "source": [
    "from sklearn.metrics import pairwise_distances\n",
    "def fulfill_by_closest(\n",
    "        df: pd.DataFrame,\n",
    "        features: list[str],\n",
    "        features_to_compare: list[str]\n",
    "):\n",
    "    for feature in features:\n",
    "        known_values = df[df[feature].notna()]\n",
    "        unknown_values = df[df[feature].isna()]\n",
    "        distances = pairwise_distances(unknown_values[features_to_compare], known_values[features_to_compare], metric='euclidean')\n",
    "        nearest_indices = distances.argmin(axis=1)\n",
    "        df.loc[df[feature].isna(), feature] = known_values.iloc[nearest_indices][feature].values"
   ],
   "metadata": {
    "id": "a321e46e963e46d3",
    "ExecuteTime": {
     "end_time": "2025-06-17T08:46:28.271578Z",
     "start_time": "2025-06-17T08:46:28.268541Z"
    }
   },
   "outputs": [],
   "execution_count": 73
  },
  {
   "cell_type": "code",
   "source": [
    "features_to_fill = ['parks_nearest','ponds_nearest','ponds_around3000','parks_around3000']\n",
    "fulfill_by_closest(\n",
    "    df = df,\n",
    "    features = features_to_fill,\n",
    "    features_to_compare = features_to_compare\n",
    ")"
   ],
   "metadata": {
    "id": "ba3f842f460e7b1",
    "ExecuteTime": {
     "end_time": "2025-06-17T08:46:33.750551Z",
     "start_time": "2025-06-17T08:46:29.604003Z"
    }
   },
   "outputs": [],
   "execution_count": 74
  },
  {
   "cell_type": "code",
   "source": "df.dropna(subset=['locality_name'], inplace=True)",
   "metadata": {
    "id": "b8d19cfc11d3fd0a",
    "ExecuteTime": {
     "end_time": "2025-06-17T08:46:33.761551Z",
     "start_time": "2025-06-17T08:46:33.753548Z"
    }
   },
   "outputs": [],
   "execution_count": 75
  },
  {
   "cell_type": "code",
   "source": "df.loc[df['floors_total'].isna(), 'floors_total'] = df.loc[df['floors_total'].isna(), 'floor']",
   "metadata": {
    "id": "3f0116fea110054e",
    "ExecuteTime": {
     "end_time": "2025-06-17T08:46:33.784628Z",
     "start_time": "2025-06-17T08:46:33.780430Z"
    }
   },
   "outputs": [],
   "execution_count": 76
  },
  {
   "cell_type": "code",
   "source": "df = df[df['floors_total']<=37]",
   "metadata": {
    "id": "147daa46b8fafe5e",
    "ExecuteTime": {
     "end_time": "2025-06-17T08:46:33.812738Z",
     "start_time": "2025-06-17T08:46:33.806336Z"
    }
   },
   "outputs": [],
   "execution_count": 77
  },
  {
   "cell_type": "code",
   "source": [
    "df.loc[df['balcony'].isna()==True,'balcony']=0"
   ],
   "metadata": {
    "id": "fae9116d8d677c7d",
    "ExecuteTime": {
     "end_time": "2025-06-17T08:46:33.833606Z",
     "start_time": "2025-06-17T08:46:33.830607Z"
    }
   },
   "outputs": [],
   "execution_count": 78
  },
  {
   "cell_type": "code",
   "source": [
    "grouped = df[df['ceiling_height'].notna()].groupby(['locality_name'])"
   ],
   "metadata": {
    "id": "ef84b12807f0d496",
    "ExecuteTime": {
     "end_time": "2025-06-17T08:46:34.233971Z",
     "start_time": "2025-06-17T08:46:34.213626Z"
    }
   },
   "outputs": [],
   "execution_count": 79
  },
  {
   "cell_type": "code",
   "source": [
    "df['ceiling_height'] = df.groupby('locality_name')['ceiling_height'].transform(lambda x: x.fillna(x.mean()))\n"
   ],
   "metadata": {
    "id": "c4494412e6a1d74e",
    "ExecuteTime": {
     "end_time": "2025-06-17T08:46:34.913506Z",
     "start_time": "2025-06-17T08:46:34.875947Z"
    }
   },
   "outputs": [],
   "execution_count": 80
  },
  {
   "cell_type": "code",
   "source": "df.dropna(subset=['ceiling_height'], inplace=True)",
   "metadata": {
    "id": "9e1042a3a6df03d3",
    "ExecuteTime": {
     "end_time": "2025-06-17T08:46:36.048799Z",
     "start_time": "2025-06-17T08:46:36.038800Z"
    }
   },
   "outputs": [],
   "execution_count": 81
  },
  {
   "cell_type": "code",
   "source": [
    "df.shape"
   ],
   "metadata": {
    "id": "935608fd8fbf8125",
    "ExecuteTime": {
     "end_time": "2025-06-17T08:46:36.660073Z",
     "start_time": "2025-06-17T08:46:36.657178Z"
    }
   },
   "outputs": [
    {
     "data": {
      "text/plain": [
       "(23527, 22)"
      ]
     },
     "execution_count": 82,
     "metadata": {},
     "output_type": "execute_result"
    }
   ],
   "execution_count": 82
  },
  {
   "cell_type": "code",
   "source": [
    "df.isna().sum().sort_values(ascending=False)"
   ],
   "metadata": {
    "id": "6ba340ebb4494dad",
    "ExecuteTime": {
     "end_time": "2025-06-17T08:46:37.283755Z",
     "start_time": "2025-06-17T08:46:37.277085Z"
    }
   },
   "outputs": [
    {
     "data": {
      "text/plain": [
       "is_apartment            20779\n",
       "days_exposition          3154\n",
       "kitchen_area             2240\n",
       "living_area              1874\n",
       "ponds_nearest               0\n",
       "ponds_around3000            0\n",
       "parks_nearest               0\n",
       "parks_around3000            0\n",
       "cityCenters_nearest         0\n",
       "airports_nearest            0\n",
       "locality_name               0\n",
       "balcony                     0\n",
       "total_images                0\n",
       "last_price                  0\n",
       "studio                      0\n",
       "floor                       0\n",
       "floors_total                0\n",
       "ceiling_height              0\n",
       "rooms                       0\n",
       "first_day_exposition        0\n",
       "total_area                  0\n",
       "open_plan                   0\n",
       "dtype: int64"
      ]
     },
     "execution_count": 83,
     "metadata": {},
     "output_type": "execute_result"
    }
   ],
   "execution_count": 83
  },
  {
   "cell_type": "code",
   "source": [
    "df.loc[df['kitchen_area'].isna(),'kitchen_area'] = np.floor(df['kitchen_area'].mean())\n",
    "df.loc[df['living_area'].isna(),'living_area']= np.floor(df['living_area'].mean())\n"
   ],
   "metadata": {
    "id": "59b84512c5b3ccb3",
    "ExecuteTime": {
     "end_time": "2025-06-17T08:46:38.863344Z",
     "start_time": "2025-06-17T08:46:38.859190Z"
    }
   },
   "outputs": [],
   "execution_count": 84
  },
  {
   "cell_type": "code",
   "source": [
    "df = df[df['total_area']>20]"
   ],
   "metadata": {
    "id": "9f28e95398ddc7a7",
    "ExecuteTime": {
     "end_time": "2025-06-17T08:46:39.576989Z",
     "start_time": "2025-06-17T08:46:39.571788Z"
    }
   },
   "outputs": [],
   "execution_count": 85
  },
  {
   "cell_type": "code",
   "source": [
    "df.shape"
   ],
   "metadata": {
    "id": "e76f3243d9a6ae3b",
    "ExecuteTime": {
     "end_time": "2025-06-17T08:46:40.287743Z",
     "start_time": "2025-06-17T08:46:40.284331Z"
    }
   },
   "outputs": [
    {
     "data": {
      "text/plain": [
       "(23492, 22)"
      ]
     },
     "execution_count": 86,
     "metadata": {},
     "output_type": "execute_result"
    }
   ],
   "execution_count": 86
  },
  {
   "cell_type": "code",
   "source": [
    "df.loc[:,'non_living_area'] = df['total_area']-(df['living_area']+df['kitchen_area'])"
   ],
   "metadata": {
    "id": "873497063cb52967",
    "ExecuteTime": {
     "end_time": "2025-06-17T08:46:41.340655Z",
     "start_time": "2025-06-17T08:46:41.336803Z"
    }
   },
   "outputs": [],
   "execution_count": 87
  },
  {
   "cell_type": "code",
   "source": [
    "df = df[df['non_living_area']>0]"
   ],
   "metadata": {
    "id": "adcdffbd75432e0",
    "ExecuteTime": {
     "end_time": "2025-06-17T08:46:41.920402Z",
     "start_time": "2025-06-17T08:46:41.914908Z"
    }
   },
   "outputs": [],
   "execution_count": 88
  },
  {
   "cell_type": "code",
   "source": [
    "df.fillna(value=0, inplace=True)"
   ],
   "metadata": {
    "id": "a98f8f2237ee4b26",
    "ExecuteTime": {
     "end_time": "2025-06-17T08:46:42.567398Z",
     "start_time": "2025-06-17T08:46:42.559501Z"
    }
   },
   "outputs": [],
   "execution_count": 89
  },
  {
   "cell_type": "code",
   "source": [
    "df['first_day_exposition'] = pd.to_datetime(df['first_day_exposition'])\n",
    "df['exposition_year'] = df['first_day_exposition'].dt.year\n",
    "df['exposition_month'] = df['first_day_exposition'].dt.month\n",
    "df['exposition_day'] = df['first_day_exposition'].dt.day\n",
    "df['exposition_weekday'] = df['first_day_exposition'].dt.weekday\n",
    "df['studio'] = df['studio'].astype(int)\n",
    "df['open_plan'] = df['open_plan'].astype(int)"
   ],
   "metadata": {
    "id": "678d88bf3f391a6a",
    "ExecuteTime": {
     "end_time": "2025-06-17T08:46:44.209114Z",
     "start_time": "2025-06-17T08:46:44.185519Z"
    }
   },
   "outputs": [],
   "execution_count": 90
  },
  {
   "cell_type": "code",
   "source": [
    "\n",
    "df['log_last_price'] = np.log1p(df['last_price'])"
   ],
   "metadata": {
    "id": "941eacc46dd50cb0",
    "ExecuteTime": {
     "end_time": "2025-06-17T08:46:44.952396Z",
     "start_time": "2025-06-17T08:46:44.947097Z"
    }
   },
   "outputs": [],
   "execution_count": 91
  },
  {
   "metadata": {},
   "cell_type": "markdown",
   "source": "## Сэмплирование"
  },
  {
   "metadata": {
    "ExecuteTime": {
     "end_time": "2025-06-17T08:46:47.035226Z",
     "start_time": "2025-06-17T08:46:46.185185Z"
    }
   },
   "cell_type": "code",
   "source": [
    "sns.countplot(x='rooms', data=df)\n",
    "plt.title(\"Распределение по числу комнат\")\n",
    "plt.show()\n",
    "\n",
    "sns.countplot(x='is_apartment', data=df)\n",
    "plt.title(\"Апартаменты vs квартиры\")\n",
    "plt.show()\n",
    "\n",
    "sns.histplot(df['total_area'], bins=50)\n",
    "plt.title(\"Общая площадь\")\n",
    "plt.show()\n",
    "\n",
    "sns.histplot(df['last_price'] / 1_000_000, bins=50, kde=True)\n",
    "plt.xlabel(\"Цена, млн ₽\")\n",
    "plt.title(\"Гистограмма цен\")\n",
    "plt.show()"
   ],
   "outputs": [
    {
     "data": {
      "text/plain": [
       "<Figure size 640x480 with 1 Axes>"
      ],
      "image/png": "[encoded data removed]"
     },
     "metadata": {},
     "output_type": "display_data"
    },
    {
     "data": {
      "text/plain": [
       "<Figure size 640x480 with 1 Axes>"
      ],
      "image/png": "[encoded data removed]"
     },
     "metadata": {},
     "output_type": "display_data"
    },
    {
     "data": {
      "text/plain": [
       "<Figure size 640x480 with 1 Axes>"
      ],
      "image/png": "[encoded data removed]"
     },
     "metadata": {},
     "output_type": "display_data"
    },
    {
     "data": {
      "text/plain": [
       "<Figure size 640x480 with 1 Axes>"
      ],
      "image/png": "[encoded data removed]"
     },
     "metadata": {},
     "output_type": "display_data"
    }
   ],
   "execution_count": 92
  },
  {
   "metadata": {
    "ExecuteTime": {
     "end_time": "2025-06-17T08:46:50.203844Z",
     "start_time": "2025-06-17T08:46:50.070212Z"
    }
   },
   "cell_type": "code",
   "source": [
    "labels = ['Квартира', 'Апартамент']\n",
    "plt.pie(df['is_apartment'].value_counts(), labels=labels, autopct='%1.1f%%')\n",
    "plt.suptitle('Распределение квартир и апартаментов')\n",
    "plt.show()\n",
    "\n",
    "\n",
    "room_counts = df['rooms'].value_counts().sort_index()\n",
    "labels = room_counts.index.astype(str)\n",
    "plt.pie(room_counts, labels=labels, autopct='%1.1f%%', startangle=90)\n",
    "plt.suptitle('Распределение по числу комнат')\n",
    "plt.tight_layout()\n",
    "plt.show()\n",
    "\n",
    "\n",
    "bins = [0, 2, 4, 6, 10, 20, 100]\n",
    "labels = ['до 2 млн', '2–4 млн', '4–6 млн', '6–10 млн', '10–20 млн', '20+ млн']\n",
    "df['price_category'] = pd.cut(df['last_price'] / 1_000_000, bins=bins, labels=labels)\n",
    "price_counts = df['price_category'].value_counts().sort_index()\n",
    "plt.pie(price_counts, labels=price_counts.index, autopct='%1.1f%%', startangle=90)\n",
    "plt.suptitle('Распределение по ценовым категориям')\n",
    "plt.tight_layout()\n",
    "plt.show()"
   ],
   "outputs": [
    {
     "data": {
      "text/plain": [
       "<Figure size 640x480 with 1 Axes>"
      ],
      "image/png": "[encoded data removed]"
     },
     "metadata": {},
     "output_type": "display_data"
    },
    {
     "data": {
      "text/plain": [
       "<Figure size 640x480 with 1 Axes>"
      ],
      "image/png": "[encoded data removed]"
     },
     "metadata": {},
     "output_type": "display_data"
    },
    {
     "data": {
      "text/plain": [
       "<Figure size 640x480 with 1 Axes>"
      ],
      "image/png": "[encoded data removed]"
     },
     "metadata": {},
     "output_type": "display_data"
    }
   ],
   "execution_count": 93
  },
  {
   "metadata": {
    "ExecuteTime": {
     "end_time": "2025-06-17T08:46:53.123385Z",
     "start_time": "2025-06-17T08:46:53.039736Z"
    }
   },
   "cell_type": "code",
   "source": [
    "apartments = df[df['is_apartment'] == 1]\n",
    "df = pd.concat([df, apartments] * 5, ignore_index=True)\n",
    "\n",
    "\n",
    "df_1_2 = df[df['rooms'].isin([1, 2])].groupby('rooms').apply(lambda x: x.sample(frac=0.5)).reset_index(drop=True)\n",
    "df_rest = df[~df['rooms'].isin([1, 2])]\n",
    "df = pd.concat([df_1_2, df_rest], ignore_index=True)\n",
    "\n",
    "\n",
    "df['price_category'] = pd.cut(df['last_price'] / 1_000_000,\n",
    "    bins=[0, 2, 4, 6, 10, 20, df['last_price'].max()/1_000_000],\n",
    "    labels=['до 2 млн', '2–4 млн', '4–6 млн', '6–10 млн', '10–20 млн', '20+ млн']\n",
    ")\n",
    "\n",
    "expensive = df[df['price_category'].isin(['10–20 млн', '20+ млн'])]\n",
    "df = pd.concat([df, expensive] * 3, ignore_index=True)"
   ],
   "outputs": [],
   "execution_count": 94
  },
  {
   "metadata": {
    "ExecuteTime": {
     "end_time": "2025-06-17T08:46:54.911129Z",
     "start_time": "2025-06-17T08:46:54.770608Z"
    }
   },
   "cell_type": "code",
   "source": [
    "labels = ['Квартира', 'Апартамент']\n",
    "plt.pie(df['is_apartment'].value_counts(), labels=labels, autopct='%1.1f%%')\n",
    "plt.suptitle('Распределение квартир и апартаментов')\n",
    "plt.show()\n",
    "\n",
    "\n",
    "room_counts = df['rooms'].value_counts().sort_index()\n",
    "labels = room_counts.index.astype(str)\n",
    "plt.pie(room_counts, labels=labels, autopct='%1.1f%%', startangle=90)\n",
    "plt.suptitle('Распределение по числу комнат')\n",
    "plt.tight_layout()\n",
    "plt.show()\n",
    "\n",
    "\n",
    "bins = [0, 2, 4, 6, 10, 20, 100]\n",
    "labels = ['до 2 млн', '2–4 млн', '4–6 млн', '6–10 млн', '10–20 млн', '20+ млн']\n",
    "df['price_category'] = pd.cut(df['last_price'] / 1_000_000, bins=bins, labels=labels)\n",
    "price_counts = df['price_category'].value_counts().sort_index()\n",
    "plt.pie(price_counts, labels=price_counts.index, autopct='%1.1f%%', startangle=90)\n",
    "plt.suptitle('Распределение по ценовым категориям')\n",
    "plt.tight_layout()\n",
    "plt.show()"
   ],
   "outputs": [
    {
     "data": {
      "text/plain": [
       "<Figure size 640x480 with 1 Axes>"
      ],
      "image/png": "[encoded data removed]"
     },
     "metadata": {},
     "output_type": "display_data"
    },
    {
     "data": {
      "text/plain": [
       "<Figure size 640x480 with 1 Axes>"
      ],
      "image/png": "[encoded data removed]"
     },
     "metadata": {},
     "output_type": "display_data"
    },
    {
     "data": {
      "text/plain": [
       "<Figure size 640x480 with 1 Axes>"
      ],
      "image/png": "[encoded data removed]"
     },
     "metadata": {},
     "output_type": "display_data"
    }
   ],
   "execution_count": 95
  },
  {
   "cell_type": "markdown",
   "source": [
    "## Exploratory Data Analysis (EDA)"
   ],
   "metadata": {
    "id": "5d8cfed18416a71a"
   }
  },
  {
   "cell_type": "code",
   "source": [
    "def create_matrix_correlation(data):\n",
    "    corr = data.corr()\n",
    "    fig = plt.figure(figsize=(10,10))\n",
    "    sns.heatmap(\n",
    "        corr, annot=True, fmt='.2f',cmap='coolwarm',cbar=True\n",
    "    )\n",
    "    fig.tight_layout()\n",
    "    plt.show()"
   ],
   "metadata": {
    "ExecuteTime": {
     "end_time": "2025-06-17T06:44:39.844361600Z",
     "start_time": "2024-08-30T14:26:46.070122Z"
    },
    "id": "934e5361832821b0"
   },
   "outputs": [],
   "execution_count": null
  },
  {
   "cell_type": "code",
   "source": [
    "def draw_distribution_graphic(x: pd.Series)->None:\n",
    "    fig, ax = plt.subplots(figsize = (12, 6))\n",
    "    sns.histplot(x, kde = True)\n",
    "    ax.set_title(\"Target distribution\", fontsize = 15, pad = 10, loc = 'left')\n",
    "    ax.set_xlabel(\"Price - log transformed\", fontsize = 8)\n",
    "    ax.set_ylabel(\"Frequency\", fontsize = 8)\n",
    "    plt.show()"
   ],
   "metadata": {
    "ExecuteTime": {
     "end_time": "2025-06-17T06:44:39.844361600Z",
     "start_time": "2024-08-30T14:26:46.095246Z"
    },
    "id": "fc79e70ac8a16a36"
   },
   "outputs": [],
   "execution_count": null
  },
  {
   "cell_type": "code",
   "source": [
    "df.head()"
   ],
   "metadata": {
    "ExecuteTime": {
     "end_time": "2025-06-17T06:44:39.845362700Z",
     "start_time": "2024-08-30T14:26:46.122863Z"
    },
    "id": "f853ab23886c4d4d"
   },
   "outputs": [],
   "execution_count": null
  },
  {
   "cell_type": "code",
   "source": [
    "\n",
    "create_matrix_correlation(df.drop(['locality_name','first_day_exposition'],axis=1))"
   ],
   "metadata": {
    "ExecuteTime": {
     "end_time": "2025-06-17T06:44:39.845362700Z",
     "start_time": "2024-08-30T14:26:46.228914Z"
    },
    "id": "7451be6a2588e0b5"
   },
   "outputs": [],
   "execution_count": null
  },
  {
   "cell_type": "code",
   "source": [
    "['total_area', 'rooms', 'living_area', 'is_apartment', 'kitchen_area',\n",
    "       'airports_nearest', 'parks_nearest', 'non_living_area']"
   ],
   "metadata": {
    "ExecuteTime": {
     "end_time": "2025-06-17T06:44:39.845362700Z",
     "start_time": "2024-08-30T14:26:52.309383Z"
    },
    "id": "24816d534db8ef1a"
   },
   "outputs": [],
   "execution_count": null
  },
  {
   "cell_type": "code",
   "source": [
    "X = df.drop(['last_price','first_day_exposition','locality_name','studio', 'open_plan','log_last_price'], axis=1)\n",
    "\n",
    "y = df['log_last_price']"
   ],
   "metadata": {
    "ExecuteTime": {
     "end_time": "2025-06-17T06:44:39.845362700Z",
     "start_time": "2024-08-30T14:26:52.322504Z"
    },
    "id": "df5920099ccb211c"
   },
   "outputs": [],
   "execution_count": null
  },
  {
   "cell_type": "code",
   "source": [
    "draw_distribution_graphic(\n",
    "    x=df.last_price\n",
    ")"
   ],
   "metadata": {
    "ExecuteTime": {
     "end_time": "2025-06-17T06:44:39.848363500Z",
     "start_time": "2024-08-30T14:26:52.345731Z"
    },
    "id": "bd0261c033be045b"
   },
   "outputs": [],
   "execution_count": null
  },
  {
   "cell_type": "code",
   "source": [
    "draw_distribution_graphic(\n",
    "    x=df.log_last_price\n",
    ")\n"
   ],
   "metadata": {
    "ExecuteTime": {
     "end_time": "2025-06-17T06:44:39.859360300Z",
     "start_time": "2024-08-30T14:27:00.413975Z"
    },
    "id": "a36f253d81cd99c3"
   },
   "outputs": [],
   "execution_count": null
  },
  {
   "cell_type": "markdown",
   "source": [
    "## Feature Selection"
   ],
   "metadata": {
    "id": "1d213601ededdfa9"
   }
  },
  {
   "cell_type": "code",
   "source": [
    "df.isna().sum().sort_values(ascending=False)"
   ],
   "metadata": {
    "ExecuteTime": {
     "end_time": "2025-06-17T06:44:39.860364100Z",
     "start_time": "2024-08-30T14:27:01.446055Z"
    },
    "id": "4775c1f6b69786fa"
   },
   "outputs": [],
   "execution_count": null
  },
  {
   "cell_type": "code",
   "source": [
    "\n",
    "from sklearn.feature_selection import f_classif, SelectKBest\n",
    "\n",
    "selector = SelectKBest(\n",
    "    score_func=f_classif,\n",
    "    k=12\n",
    ")\n",
    "X_new = selector.fit_transform(X,y)"
   ],
   "metadata": {
    "ExecuteTime": {
     "end_time": "2025-06-17T06:44:39.861362100Z",
     "start_time": "2024-08-30T14:27:01.476427Z"
    },
    "id": "a979f30b6e7298a4"
   },
   "outputs": [],
   "execution_count": null
  },
  {
   "cell_type": "code",
   "source": [
    "\n",
    "X_new"
   ],
   "metadata": {
    "ExecuteTime": {
     "end_time": "2025-06-17T06:44:39.862361900Z",
     "start_time": "2024-08-30T14:27:02.939982Z"
    },
    "id": "8bf5854acb219f29"
   },
   "outputs": [],
   "execution_count": null
  },
  {
   "cell_type": "code",
   "source": [
    "y"
   ],
   "metadata": {
    "ExecuteTime": {
     "end_time": "2025-06-17T06:44:39.862361900Z",
     "start_time": "2024-08-30T14:27:02.953061Z"
    },
    "id": "3417208d02bda4db"
   },
   "outputs": [],
   "execution_count": null
  },
  {
   "cell_type": "code",
   "source": [
    "\n",
    "selected_indices = selector.get_support(indices=True)\n",
    "print(\"Selected feature indices:\", selected_indices)"
   ],
   "metadata": {
    "ExecuteTime": {
     "end_time": "2025-06-17T06:44:39.863362300Z",
     "start_time": "2024-08-30T14:27:02.972804Z"
    },
    "id": "54946d43e8c03886"
   },
   "outputs": [],
   "execution_count": null
  },
  {
   "cell_type": "code",
   "source": [
    "selected_feature_names = X.columns[selected_indices]\n",
    "print(\"Selected feature names:\", selected_feature_names)"
   ],
   "metadata": {
    "ExecuteTime": {
     "end_time": "2025-06-17T06:44:39.864362800Z",
     "start_time": "2024-08-30T14:27:02.987086Z"
    },
    "id": "b6fe5232009f5062"
   },
   "outputs": [],
   "execution_count": null
  },
  {
   "cell_type": "markdown",
   "source": [
    "## Splitting Data into Train, Validation & Test sets"
   ],
   "metadata": {
    "id": "7bf618f61bf48363"
   }
  },
  {
   "cell_type": "code",
   "source": [
    "from sklearn.model_selection import train_test_split\n",
    "\n",
    "X_train, X_test, y_train, y_test = train_test_split(\n",
    "    X_new,\n",
    "    y,\n",
    "    train_size = 0.8,\n",
    "    test_size = 0.2\n",
    ")"
   ],
   "metadata": {
    "ExecuteTime": {
     "end_time": "2025-06-17T06:44:39.864362800Z",
     "start_time": "2024-08-30T14:27:02.997573Z"
    },
    "id": "ea415aa7944ab20"
   },
   "outputs": [],
   "execution_count": null
  },
  {
   "cell_type": "code",
   "source": [
    "X_train, X_val, y_train, y_val = train_test_split(\n",
    "    X_train,\n",
    "    y_train,\n",
    "    train_size = 0.9,\n",
    "    test_size = 0.1\n",
    ")"
   ],
   "metadata": {
    "ExecuteTime": {
     "end_time": "2025-06-17T06:44:39.875360300Z",
     "start_time": "2024-08-30T14:27:03.038496Z"
    },
    "id": "801b354b130cd04c"
   },
   "outputs": [],
   "execution_count": null
  },
  {
   "cell_type": "code",
   "source": [
    "from sklearn.preprocessing import StandardScaler\n",
    "\n",
    "scaler = StandardScaler().fit(X_train)\n",
    "X_train_scaled = scaler.transform(X_train)\n",
    "X_test_scaled = scaler.transform(X_test)\n",
    "X_val_scaled = scaler.transform(X_val)"
   ],
   "metadata": {
    "ExecuteTime": {
     "end_time": "2025-06-17T06:44:39.876362Z",
     "start_time": "2024-08-30T14:27:03.064957Z"
    },
    "id": "399e33161e9c5cf8"
   },
   "outputs": [],
   "execution_count": null
  },
  {
   "cell_type": "markdown",
   "source": [
    "## Model building & training"
   ],
   "metadata": {
    "id": "5bdda2f4a87f6b2e"
   }
  },
  {
   "cell_type": "code",
   "source": [
    "from sklearn.ensemble import BaggingRegressor\n",
    "from sklearn.metrics import mean_absolute_error, mean_squared_error, r2_score\n",
    "from dataclasses import dataclass\n",
    "import abc\n",
    "from typing import Dict, Any, Type\n",
    "from sklearn.model_selection import GridSearchCV\n",
    "\n",
    "\n",
    "@dataclass\n",
    "class ModelBuildingHelper:\n",
    "    model_class: Type[abc.ABCMeta]\n",
    "    X_train: pd.DataFrame\n",
    "    X_val: pd.DataFrame\n",
    "    y_train: pd.Series\n",
    "    y_val: pd.Series\n",
    "    test_x_data: pd.DataFrame\n",
    "    test_y_data: pd.Series\n",
    "    params_grid: Dict[str, Any]  = None\n",
    "    bagging_params: Dict[str, Any] = None\n",
    "    def __post_init__(self):\n",
    "        self.model_instance = self.model_class\n",
    "        if self.params_grid:\n",
    "            self.grid_search = GridSearchCV(\n",
    "                estimator = self.model_instance,\n",
    "                param_grid =  self.params_grid,\n",
    "                cv = 5\n",
    "            )\n",
    "        else:\n",
    "            self.grid_search = None\n",
    "\n",
    "        if self.bagging_params:\n",
    "            self.bagging_model = BaggingRegressor(\n",
    "                estimator=self.model_instance,\n",
    "                **self.bagging_params\n",
    "            )\n",
    "        else:\n",
    "            self.bagging_model = None\n",
    "\n",
    "    def train_model(self):\n",
    "        if self.grid_search:\n",
    "            self.grid_search.fit(self.X_train, self.y_train)\n",
    "            self.model_instance = self.grid_search.best_estimator_\n",
    "        else:\n",
    "            self.model_instance.fit(self.X_train, self.y_train)\n",
    "\n",
    "\n",
    "    def evaluate_model(self):\n",
    "        y_val_pred = self.model_instance.predict(self.X_val)\n",
    "        self.metrics(y_real=self.y_val,\n",
    "                     y_pred=y_val_pred)\n",
    "    def metrics(self, y_real, y_pred):\n",
    "        mae = mean_absolute_error(y_real,y_pred)\n",
    "        mse = mean_squared_error(y_real, y_pred)\n",
    "        r2 = r2_score(y_real, y_pred)\n",
    "        print(f'metrics:\\n'\n",
    "              f'mae {mae}\\n'\n",
    "              f'mse {mse}\\n'\n",
    "              f'r2 {r2}\\n')\n",
    "\n",
    "    def get_prediction(self):\n",
    "        test_pred_data = self.model_instance.predict(self.test_x_data)\n",
    "        self.metrics(self.test_y_data, test_pred_data)\n",
    "    def get_best_params(self):\n",
    "        if self.grid_search:\n",
    "            return self.grid_search.best_params_\n",
    "        else:\n",
    "            raise ValueError(\"GridSearchCV hasn't been completed yet\")"
   ],
   "metadata": {
    "ExecuteTime": {
     "end_time": "2025-06-17T06:44:39.877362900Z",
     "start_time": "2024-08-30T14:27:03.149051Z"
    },
    "id": "bb1e41d59eb27fef"
   },
   "outputs": [],
   "execution_count": null
  },
  {
   "cell_type": "code",
   "source": [
    "from sklearn.linear_model import LinearRegression\n",
    "\n",
    "model = LinearRegression()\n",
    "\n",
    "linear_regression = ModelBuildingHelper(\n",
    "    model_class = model,\n",
    "    X_train=X_train_scaled,\n",
    "    X_val=X_test_scaled,\n",
    "    y_train=y_train,\n",
    "    y_val=y_test,\n",
    "    test_x_data=X_val_scaled,\n",
    "    test_y_data=y_val\n",
    ")"
   ],
   "metadata": {
    "ExecuteTime": {
     "end_time": "2025-06-17T06:44:39.877362900Z",
     "start_time": "2024-08-30T17:09:43.329938Z"
    },
    "id": "1bfbb7ef925f5206"
   },
   "outputs": [],
   "execution_count": null
  },
  {
   "cell_type": "code",
   "source": [
    "linear_regression.train_model()"
   ],
   "metadata": {
    "ExecuteTime": {
     "end_time": "2025-06-17T06:44:39.878362300Z",
     "start_time": "2024-08-30T17:09:44.392916Z"
    },
    "id": "98b4e2ba2c5fa323"
   },
   "outputs": [],
   "execution_count": null
  },
  {
   "cell_type": "code",
   "source": [
    "linear_regression.evaluate_model()"
   ],
   "metadata": {
    "ExecuteTime": {
     "end_time": "2025-06-17T06:44:39.878362300Z",
     "start_time": "2024-08-30T17:09:45.258299Z"
    },
    "id": "528bd4bea398e918"
   },
   "outputs": [],
   "execution_count": null
  },
  {
   "cell_type": "code",
   "source": [
    "from sklearn.ensemble import RandomForestRegressor\n",
    "model = RandomForestRegressor()\n",
    "parameters = {'n_estimators': [300],\n",
    "              'max_depth': [20],\n",
    "              'min_samples_split': [4],\n",
    "              'min_samples_leaf': [2,4]\n",
    "              }\n",
    "\n",
    "randomforest_regressor = ModelBuildingHelper(\n",
    "    model_class = model,\n",
    "    X_train=X_train_scaled,\n",
    "    X_val=X_test_scaled,\n",
    "    y_train=y_train,\n",
    "    y_val=y_test,\n",
    "    test_x_data=X_val_scaled,\n",
    "    test_y_data=y_val,\n",
    "    params_grid=parameters,\n",
    ")"
   ],
   "metadata": {
    "ExecuteTime": {
     "end_time": "2025-06-17T06:44:39.879362300Z",
     "start_time": "2024-08-30T17:16:49.615653Z"
    },
    "id": "92c4d65c4f9e5653"
   },
   "outputs": [],
   "execution_count": null
  },
  {
   "cell_type": "code",
   "source": [
    "randomforest_regressor.train_model()"
   ],
   "metadata": {
    "ExecuteTime": {
     "end_time": "2025-06-17T06:44:39.880363200Z",
     "start_time": "2024-08-30T17:16:49.800288Z"
    },
    "id": "de0ab95e99cd75b"
   },
   "outputs": [],
   "execution_count": null
  },
  {
   "cell_type": "code",
   "source": [
    "randomforest_regressor.evaluate_model()"
   ],
   "metadata": {
    "ExecuteTime": {
     "end_time": "2025-06-17T06:44:39.880363200Z",
     "start_time": "2024-08-30T17:22:47.43201Z"
    },
    "id": "9eb86c4c49408bb3"
   },
   "outputs": [],
   "execution_count": null
  },
  {
   "cell_type": "code",
   "source": [
    "randomforest_regressor.get_best_params()"
   ],
   "metadata": {
    "ExecuteTime": {
     "end_time": "2025-06-17T06:44:39.881362500Z",
     "start_time": "2024-08-30T17:23:13.738159Z"
    },
    "id": "84117fbeb03a15d8"
   },
   "outputs": [],
   "execution_count": null
  },
  {
   "cell_type": "code",
   "source": [
    "from xgboost import XGBRegressor\n",
    "\n",
    "model = XGBRegressor(\n",
    "    eval_metric='rmse',\n",
    ")\n",
    "\n",
    "bagging_params = {\n",
    "    'n_estimators': 5,\n",
    "    'random_state': 42\n",
    "}\n",
    "\n",
    "parameters = {'n_estimators': [200,400],\n",
    "              'learning_rate': [0.1],\n",
    "              'max_depth': [5],\n",
    "              'subsample': [1.0],\n",
    "              'colsample_bytree': [0.6, 0.8],\n",
    "              'alpha': [1.0],\n",
    "              'lambda': [1.0],\n",
    "              'min_child_weight': [6,8,10]\n",
    "              }\n",
    "\n",
    "xgb_regressor = ModelBuildingHelper(\n",
    "    model_class = model,\n",
    "    X_train=X_train_scaled,\n",
    "    X_val=X_test_scaled,\n",
    "    y_train=y_train,\n",
    "    y_val=y_test,\n",
    "    test_x_data=X_val_scaled,\n",
    "    test_y_data=y_val,\n",
    "    params_grid=parameters,\n",
    "    bagging_params=bagging_params\n",
    ")\n"
   ],
   "metadata": {
    "ExecuteTime": {
     "end_time": "2025-06-17T06:44:39.881362500Z",
     "start_time": "2024-08-30T17:23:19.019438Z"
    },
    "id": "fa92200a9a0d1a29"
   },
   "outputs": [],
   "execution_count": null
  },
  {
   "cell_type": "code",
   "source": [
    "xgb_regressor.train_model()"
   ],
   "metadata": {
    "ExecuteTime": {
     "end_time": "2025-06-17T06:44:39.882363Z",
     "start_time": "2024-08-30T17:23:26.330394Z"
    },
    "id": "407f8bb7e27ffa7"
   },
   "outputs": [],
   "execution_count": null
  },
  {
   "cell_type": "code",
   "source": [
    "\n",
    "xgb_regressor.evaluate_model()"
   ],
   "metadata": {
    "ExecuteTime": {
     "end_time": "2025-06-17T06:44:39.883361600Z",
     "start_time": "2024-08-30T17:24:16.829734Z"
    },
    "id": "5bf549c197f465aa"
   },
   "outputs": [],
   "execution_count": null
  },
  {
   "cell_type": "code",
   "source": [
    "xgb_regressor.get_best_params()"
   ],
   "metadata": {
    "ExecuteTime": {
     "end_time": "2025-06-17T06:44:39.883361600Z",
     "start_time": "2024-08-30T17:25:28.973162Z"
    },
    "id": "c08bdf3500b9af17"
   },
   "outputs": [],
   "execution_count": null
  },
  {
   "cell_type": "code",
   "source": [
    "from sklearn.ensemble import ExtraTreesRegressor\n",
    "\n",
    "model = ExtraTreesRegressor(\n",
    "    n_estimators=100,\n",
    "    max_depth=10,\n",
    "    min_samples_split=2,\n",
    "    min_samples_leaf=1,\n",
    "    random_state=42\n",
    ")"
   ],
   "metadata": {
    "ExecuteTime": {
     "end_time": "2025-06-17T06:44:39.884363400Z",
     "start_time": "2024-08-30T17:25:47.349804Z"
    },
    "id": "ffeb5f4071bd7466"
   },
   "outputs": [],
   "execution_count": null
  },
  {
   "cell_type": "code",
   "source": [
    "extra_trees_regressor = ModelBuildingHelper(\n",
    "    model_class = model,\n",
    "    X_train=X_train_scaled,\n",
    "    X_val=X_test_scaled,\n",
    "    y_train=y_train,\n",
    "    y_val=y_test,\n",
    "    test_x_data=X_val_scaled,\n",
    "    test_y_data=y_val,\n",
    ")\n",
    "extra_trees_regressor.train_model()"
   ],
   "metadata": {
    "ExecuteTime": {
     "end_time": "2025-06-17T06:44:39.884363400Z",
     "start_time": "2024-08-30T17:25:53.899847Z"
    },
    "id": "e76694b4286bcb35"
   },
   "outputs": [],
   "execution_count": null
  },
  {
   "cell_type": "code",
   "source": [
    "extra_trees_regressor.evaluate_model()"
   ],
   "metadata": {
    "ExecuteTime": {
     "end_time": "2025-06-17T06:44:39.885362500Z",
     "start_time": "2024-08-30T17:26:00.055133Z"
    },
    "id": "c591ee509a714f30"
   },
   "outputs": [],
   "execution_count": null
  },
  {
   "cell_type": "code",
   "source": [
    "extra_trees_regressor.get_prediction()"
   ],
   "metadata": {
    "ExecuteTime": {
     "end_time": "2025-06-17T06:44:39.885362500Z",
     "start_time": "2024-08-30T17:26:02.638544Z"
    },
    "id": "71598341a8ff60b4"
   },
   "outputs": [],
   "execution_count": null
  },
  {
   "cell_type": "code",
   "source": [
    "\n",
    "import lightgbm as lgb\n",
    "model = lgb.LGBMRegressor(\n",
    "    objective='regression',\n",
    "    boosting_type='gbdt',\n",
    "    random_state=42,\n",
    "    verbose=-1\n",
    ")\n",
    "\n",
    "parameters = {\n",
    "    'n_estimators': [100, 200, 400],\n",
    "    'learning_rate': [0.01, 0.1],\n",
    "    'max_depth': [5, 7],\n",
    "    'num_leaves': [20, 31],\n",
    "    'min_child_samples': [10],\n",
    "    'subsample': [0.6],\n",
    "    'colsample_bytree': [0.6],\n",
    "}\n",
    "\n",
    "lgb_regressor = ModelBuildingHelper(\n",
    "    model_class=model,\n",
    "    X_train=X_train_scaled,\n",
    "    X_val=X_test_scaled,\n",
    "    y_train=y_train,\n",
    "    y_val=y_test,\n",
    "    test_x_data=X_val_scaled,\n",
    "    test_y_data=y_val,\n",
    "    params_grid=parameters,\n",
    ")\n",
    "\n"
   ],
   "metadata": {
    "ExecuteTime": {
     "end_time": "2025-06-17T06:44:39.886362600Z",
     "start_time": "2024-08-30T18:16:20.569915Z"
    },
    "id": "f448dedd1ff7a610"
   },
   "outputs": [],
   "execution_count": null
  },
  {
   "cell_type": "code",
   "source": [
    "lgb_regressor.train_model()"
   ],
   "metadata": {
    "ExecuteTime": {
     "end_time": "2025-06-17T06:44:39.887362300Z",
     "start_time": "2024-08-30T18:16:21.06468Z"
    },
    "id": "f9015afe1e5eb0d7"
   },
   "outputs": [],
   "execution_count": null
  },
  {
   "cell_type": "code",
   "source": [
    "lgb_regressor.evaluate_model()"
   ],
   "metadata": {
    "ExecuteTime": {
     "end_time": "2025-06-17T06:44:39.888362600Z",
     "start_time": "2024-08-30T17:28:07.766371Z"
    },
    "id": "c8327557d8025814"
   },
   "outputs": [],
   "execution_count": null
  },
  {
   "cell_type": "code",
   "source": [
    "from catboost import CatBoostRegressor\n",
    "\n",
    "model = CatBoostRegressor(\n",
    "    iterations=500,\n",
    "    depth=6,\n",
    "    learning_rate=0.1,\n",
    "    loss_function='RMSE',\n",
    "    random_state=42,\n",
    "    verbose=0\n",
    ")\n"
   ],
   "metadata": {
    "ExecuteTime": {
     "end_time": "2025-06-17T06:44:39.888362600Z",
     "start_time": "2024-08-30T17:28:18.013083Z"
    },
    "id": "ce3b65e3b48be82e"
   },
   "outputs": [],
   "execution_count": null
  },
  {
   "cell_type": "code",
   "source": [
    "catboost_regressor = ModelBuildingHelper(\n",
    "    model_class=model,\n",
    "    X_train=X_train_scaled,\n",
    "    X_val=X_test_scaled,\n",
    "    y_train=y_train,\n",
    "    y_val=y_test,\n",
    "    test_x_data=X_val_scaled,\n",
    "    test_y_data=y_val,\n",
    ")"
   ],
   "metadata": {
    "ExecuteTime": {
     "end_time": "2025-06-17T06:44:39.889362800Z",
     "start_time": "2024-08-30T17:28:33.039719Z"
    },
    "id": "9225bd6b7daa2b66"
   },
   "outputs": [],
   "execution_count": null
  },
  {
   "cell_type": "code",
   "source": [
    "catboost_regressor.train_model()"
   ],
   "metadata": {
    "ExecuteTime": {
     "end_time": "2025-06-17T06:44:39.889362800Z",
     "start_time": "2024-08-30T17:28:33.547759Z"
    },
    "id": "a92a485148445061"
   },
   "outputs": [],
   "execution_count": null
  },
  {
   "cell_type": "code",
   "source": [
    "catboost_regressor.evaluate_model()"
   ],
   "metadata": {
    "ExecuteTime": {
     "end_time": "2025-06-17T06:44:39.890361700Z",
     "start_time": "2024-08-30T17:28:39.513501Z"
    },
    "id": "f78367af8ff262fa"
   },
   "outputs": [],
   "execution_count": null
  },
  {
   "cell_type": "code",
   "source": [
    "from sklearn.linear_model import Lasso\n",
    "\n",
    "model = Lasso()\n",
    "\n",
    "parameters = {\n",
    "    'alpha': [0.01, 0.1, 1.0, 10.0],\n",
    "    'max_iter': [1000]\n",
    "}\n",
    "\n",
    "lasso_regressor = ModelBuildingHelper(\n",
    "    model_class=model,\n",
    "    X_train=X_train_scaled,\n",
    "    X_val=X_test_scaled,\n",
    "    y_train=y_train,\n",
    "    y_val=y_test,\n",
    "    test_x_data=X_val_scaled,\n",
    "    test_y_data=y_val,\n",
    "    params_grid=parameters\n",
    ")\n"
   ],
   "metadata": {
    "ExecuteTime": {
     "end_time": "2025-06-17T06:44:39.890361700Z",
     "start_time": "2024-08-30T17:28:49.360844Z"
    },
    "id": "a08d89fe94c7f398"
   },
   "outputs": [],
   "execution_count": null
  },
  {
   "cell_type": "code",
   "source": [
    "lasso_regressor.train_model()"
   ],
   "metadata": {
    "ExecuteTime": {
     "end_time": "2025-06-17T06:44:39.891361600Z",
     "start_time": "2024-08-30T17:28:49.608331Z"
    },
    "id": "74d60390a0f126c4"
   },
   "outputs": [],
   "execution_count": null
  },
  {
   "cell_type": "code",
   "source": [
    "lasso_regressor.evaluate_model()"
   ],
   "metadata": {
    "ExecuteTime": {
     "end_time": "2025-06-17T06:44:39.891361600Z",
     "start_time": "2024-08-30T17:29:46.133221Z"
    },
    "id": "1a72d7e1ad31cbbf"
   },
   "outputs": [],
   "execution_count": null
  },
  {
   "cell_type": "code",
   "source": [
    "from sklearn.ensemble import StackingRegressor\n",
    "base_learners = [\n",
    "    ('lr', LinearRegression()),\n",
    "    ('rf', RandomForestRegressor(\n",
    "        n_estimators=300,\n",
    "        max_depth=20,\n",
    "        min_samples_split=4,\n",
    "        min_samples_leaf=4\n",
    "    )),\n",
    "    ('xgb', XGBRegressor(\n",
    "        n_estimators=400,\n",
    "        max_depth=5,\n",
    "        alpha=1.0,\n",
    "        colsample_bytree=0.6,\n",
    "        min_child_weight=10,\n",
    "        subsample=1.0,\n",
    "        learning_rate=0.1)),\n",
    "    ('cbr', CatBoostRegressor(\n",
    "        iterations=500,\n",
    "        depth=6,\n",
    "        learning_rate=0.1,\n",
    "        loss_function='RMSE',\n",
    "        random_state=42,\n",
    "        verbose=0\n",
    "    ))\n",
    "]\n",
    "\n",
    "stacking_regressor_4 = StackingRegressor(\n",
    "    estimators=base_learners,\n",
    "    final_estimator=RandomForestRegressor(\n",
    "        n_estimators=400)\n",
    ")\n",
    "\n",
    "stacking_model =  ModelBuildingHelper(\n",
    "    model_class=stacking_regressor_4,\n",
    "    X_train=X_train_scaled,\n",
    "    X_val=X_test_scaled,\n",
    "    y_train=y_train,\n",
    "    y_val=y_test,\n",
    "    test_x_data=X_val_scaled,\n",
    "    test_y_data=y_val,\n",
    ")"
   ],
   "metadata": {
    "ExecuteTime": {
     "end_time": "2025-06-17T06:44:39.892362400Z",
     "start_time": "2024-08-30T16:59:56.356695Z"
    },
    "id": "6fe735eb081cec72"
   },
   "outputs": [],
   "execution_count": null
  },
  {
   "cell_type": "code",
   "source": [
    "stacking_model.train_model()"
   ],
   "metadata": {
    "ExecuteTime": {
     "end_time": "2025-06-17T06:44:39.892362400Z",
     "start_time": "2024-08-30T17:00:11.071322Z"
    },
    "id": "d6998a869600ef82"
   },
   "outputs": [],
   "execution_count": null
  },
  {
   "cell_type": "code",
   "source": [
    "stacking_model.evaluate_model()"
   ],
   "metadata": {
    "ExecuteTime": {
     "end_time": "2025-06-17T06:44:39.893362600Z",
     "start_time": "2024-08-30T17:05:34.640757Z"
    },
    "id": "f310f62f665b231b"
   },
   "outputs": [],
   "execution_count": null
  },
  {
   "cell_type": "code",
   "source": [
    "base_learners = [\n",
    "    ('lr', LinearRegression()),\n",
    "    ('rf', RandomForestRegressor(\n",
    "        n_estimators=300,\n",
    "        max_depth=20,\n",
    "        min_samples_split=4,\n",
    "        min_samples_leaf=4\n",
    "    )),\n",
    "]\n",
    "\n",
    "\n",
    "stacking_regressor_2 = StackingRegressor(\n",
    "    estimators=base_learners,\n",
    "    final_estimator=RandomForestRegressor(\n",
    "        n_estimators=400)\n",
    ")\n",
    "\n",
    "stacking_model =  ModelBuildingHelper(\n",
    "    model_class=stacking_regressor_2,\n",
    "    X_train=X_train_scaled,\n",
    "    X_val=X_test_scaled,\n",
    "    y_train=y_train,\n",
    "    y_val=y_test,\n",
    "    test_x_data=X_val_scaled,\n",
    "    test_y_data=y_val,\n",
    ")\n"
   ],
   "metadata": {
    "ExecuteTime": {
     "end_time": "2025-06-17T06:44:39.893362600Z",
     "start_time": "2024-08-30T16:52:52.194181Z"
    },
    "id": "14be968680a40e61"
   },
   "outputs": [],
   "execution_count": null
  },
  {
   "cell_type": "code",
   "source": [
    "stacking_model.train_model()"
   ],
   "metadata": {
    "ExecuteTime": {
     "end_time": "2025-06-17T06:44:39.894362800Z",
     "start_time": "2024-08-30T16:52:53.949449Z"
    },
    "id": "1cc4d40bf622e81e"
   },
   "outputs": [],
   "execution_count": null
  },
  {
   "cell_type": "code",
   "source": [
    "stacking_model.evaluate_model()"
   ],
   "metadata": {
    "ExecuteTime": {
     "end_time": "2025-06-17T06:44:39.895362800Z",
     "start_time": "2024-08-30T16:58:26.641963Z"
    },
    "id": "79a2504bdecb4b5a"
   },
   "outputs": [],
   "execution_count": null
  },
  {
   "cell_type": "markdown",
   "source": [
    "## Model comparison"
   ],
   "metadata": {
    "id": "b2948f3fd1f9ccf5"
   }
  },
  {
   "cell_type": "code",
   "source": [
    "linear_regression.get_prediction()"
   ],
   "metadata": {
    "id": "69c2dd80066730"
   },
   "outputs": [],
   "execution_count": null
  },
  {
   "cell_type": "code",
   "source": [
    "randomforest_regressor.get_prediction()"
   ],
   "metadata": {
    "id": "309f40edeb7dab82"
   },
   "outputs": [],
   "execution_count": null
  },
  {
   "cell_type": "code",
   "source": [
    "lgb_regressor.get_prediction()"
   ],
   "metadata": {
    "id": "d499aa6ba0326ef5"
   },
   "outputs": [],
   "execution_count": null
  },
  {
   "cell_type": "code",
   "source": [
    "xgb_regressor.get_prediction()"
   ],
   "metadata": {
    "id": "c87c53a1164d09c8"
   },
   "outputs": [],
   "execution_count": null
  },
  {
   "cell_type": "code",
   "source": [
    "catboost_regressor.get_prediction()"
   ],
   "metadata": {
    "id": "d3faeb6bfda752a9"
   },
   "outputs": [],
   "execution_count": null
  },
  {
   "cell_type": "code",
   "source": [
    "lasso_regressor.get_prediction()"
   ],
   "metadata": {
    "id": "34d8c74ecf25f5eb"
   },
   "outputs": [],
   "execution_count": null
  },
  {
   "cell_type": "code",
   "source": [
    "stacking_model.get_prediction()\n"
   ],
   "metadata": {
    "id": "b3c76f5326de5194"
   },
   "outputs": [],
   "execution_count": null
  },
  {
   "cell_type": "code",
   "source": [
    "stacking_model.get_prediction()"
   ],
   "metadata": {
    "id": "e51510328388c6d2"
   },
   "outputs": [],
   "execution_count": null
  },
  {
   "cell_type": "markdown",
   "source": [
    "## Conclusions"
   ],
   "metadata": {
    "id": "4309ced43d92eb49"
   }
  },
  {
   "cell_type": "markdown",
   "source": [
    "The preprocessing involved filling missing values using the nearest neighbors approach and applying  \n",
    "a log transformation to normalize the last_price feature. Feature selection was done using  \n",
    "SelectKBest with f_classif, retaining the top 12 features. Data was scaled with   \n",
    "StandardScaler to ensure uniform contribution from all features.\n",
    "\n",
    "After training and optimizing various models, it was found that the CatBoost Regressor delivered the best performance.   \n",
    "The results were summarized as follows:  \n",
    "CatBoost Regressor  \n",
    "MAE: 0.160  \n",
    "MSE: 0.056\t  \n",
    "R_2: 0.865  \n",
    "\n",
    "CatBoost Regressor achieved the lowest MAE and MSE, and the highest R² score,  \n",
    "making it the most effective model in this analysis.  \n",
    "Overall, the preprocessing and feature selection steps contributed significantly  \n",
    "to the model performance, and stacking models helped in leveraging the strengths of different algorithms.\n",
    "\n",
    "To further improve the results, additional data preprocessing steps such as advanced feature  \n",
    " engineering and more extensive hyperparameter tuning techniques could be considered."
   ],
   "metadata": {
    "id": "d47140d1eb27db82"
   }
  }
 ]
}
