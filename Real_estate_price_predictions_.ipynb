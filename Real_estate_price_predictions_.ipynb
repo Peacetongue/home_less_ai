{
  "metadata": {
    "kernelspec": {
      "display_name": "Python 3",
      "language": "python",
      "name": "python3"
    },
    "language_info": {
      "codemirror_mode": {
        "name": "ipython",
        "version": 2
      },
      "file_extension": ".py",
      "mimetype": "text/x-python",
      "name": "python",
      "nbconvert_exporter": "python",
      "pygments_lexer": "ipython2",
      "version": "2.7.6"
    },
    "kaggle": {
      "accelerator": "none",
      "dataSources": [
        {
          "sourceId": 8953444,
          "sourceType": "datasetVersion",
          "datasetId": 5388382
        }
      ],
      "isInternetEnabled": true,
      "language": "python",
      "sourceType": "notebook",
      "isGpuEnabled": false
    },
    "colab": {
      "provenance": []
    }
  },
  "nbformat_minor": 0,
  "nbformat": 4,
  "cells": [
    {
      "source": [
        "# IMPORTANT: RUN THIS CELL IN ORDER TO IMPORT YOUR KAGGLE DATA SOURCES,\n",
        "# THEN FEEL FREE TO DELETE THIS CELL.\n",
        "# NOTE: THIS NOTEBOOK ENVIRONMENT DIFFERS FROM KAGGLE'S PYTHON\n",
        "# ENVIRONMENT SO THERE MAY BE MISSING LIBRARIES USED BY YOUR\n",
        "# NOTEBOOK.\n",
        "import kagglehub\n",
        "litvinenko630_real_estate_saint_petersburg_2014_2019_path = kagglehub.dataset_download('litvinenko630/real-estate-saint-petersburg-2014-2019')\n",
        "\n",
        "print('Data source import complete.')\n"
      ],
      "metadata": {
        "id": "M2aWWPzGxj44"
      },
      "cell_type": "code",
      "outputs": [],
      "execution_count": null
    },
    {
      "cell_type": "markdown",
      "source": [
        "# Introduction | Real Estate Saint-Petersburg 2014-2019"
      ],
      "metadata": {
        "id": "a651bfea3b1cce32"
      }
    },
    {
      "cell_type": "markdown",
      "source": [
        "Current dataset has been acquired from Kaggle datasets.  \n",
        "It contains info about real estate listings, including various features of properties. Source:  \n",
        "https://www.kaggle.com/datasets/litvinenko630/real-estate-saint-petersburg-2014-2019/data\n"
      ],
      "metadata": {
        "id": "9dff91a309e5ff98"
      }
    },
    {
      "cell_type": "markdown",
      "source": [
        "### Goal  \n",
        "\n",
        "Completed version of this notebook will be having a prediction baseline model able to forecast prices of real estate."
      ],
      "metadata": {
        "id": "b683b9e5b904d85e"
      }
    },
    {
      "cell_type": "markdown",
      "source": [
        "## Importing libraries, funcs & data"
      ],
      "metadata": {
        "id": "6c41b224f1ac544d"
      }
    },
    {
      "cell_type": "code",
      "source": [
        "import pandas as pd\n",
        "import numpy as np\n",
        "\n",
        "import matplotlib.pyplot as plt"
      ],
      "metadata": {
        "ExecuteTime": {
          "end_time": "2024-08-30T14:26:23.746126Z",
          "start_time": "2024-08-30T14:26:23.735594Z"
        },
        "id": "6400b61be46acf53"
      },
      "outputs": [],
      "execution_count": null
    },
    {
      "cell_type": "code",
      "source": [
        "df = pd.read_csv(r'data/real_estate_data.csv', sep='\\t')"
      ],
      "metadata": {
        "ExecuteTime": {
          "end_time": "2024-08-30T14:26:23.958093Z",
          "start_time": "2024-08-30T14:26:23.749112Z"
        },
        "id": "6c2719c72f7baf5"
      },
      "outputs": [],
      "execution_count": null
    },
    {
      "cell_type": "markdown",
      "source": [
        "## Data exploration"
      ],
      "metadata": {
        "id": "8b9557c8642ee6fc"
      }
    },
    {
      "cell_type": "code",
      "source": [
        "df.head()"
      ],
      "metadata": {
        "ExecuteTime": {
          "end_time": "2024-08-30T14:26:24.025956Z",
          "start_time": "2024-08-30T14:26:23.96209Z"
        },
        "id": "9cd51a8b63fe812"
      },
      "outputs": [],
      "execution_count": null
    },
    {
      "cell_type": "code",
      "source": [
        "df.info()"
      ],
      "metadata": {
        "ExecuteTime": {
          "end_time": "2024-08-30T14:26:24.059957Z",
          "start_time": "2024-08-30T14:26:24.032952Z"
        },
        "id": "5c98df74c4f78ada"
      },
      "outputs": [],
      "execution_count": null
    },
    {
      "cell_type": "code",
      "source": [
        "df.describe().round(decimals=2)"
      ],
      "metadata": {
        "ExecuteTime": {
          "end_time": "2024-08-30T14:26:24.332732Z",
          "start_time": "2024-08-30T14:26:24.066952Z"
        },
        "id": "779eb8a677b88dcc"
      },
      "outputs": [],
      "execution_count": null
    },
    {
      "cell_type": "code",
      "source": [
        "\n",
        "\n",
        "df.isna().sum().sort_values(ascending=False)"
      ],
      "metadata": {
        "ExecuteTime": {
          "end_time": "2024-08-30T14:26:24.364726Z",
          "start_time": "2024-08-30T14:26:24.337728Z"
        },
        "id": "4eebcc89bd8832f4"
      },
      "outputs": [],
      "execution_count": null
    },
    {
      "cell_type": "code",
      "source": [
        "\n",
        "\n",
        "df.head()"
      ],
      "metadata": {
        "ExecuteTime": {
          "end_time": "2024-08-30T14:26:24.479116Z",
          "start_time": "2024-08-30T14:26:24.369728Z"
        },
        "id": "ef66d3e3aaa2d993"
      },
      "outputs": [],
      "execution_count": null
    },
    {
      "cell_type": "code",
      "source": [
        "\n",
        "df.duplicated().sum()"
      ],
      "metadata": {
        "ExecuteTime": {
          "end_time": "2024-08-30T14:26:24.593424Z",
          "start_time": "2024-08-30T14:26:24.484116Z"
        },
        "id": "d558f591cc292d99"
      },
      "outputs": [],
      "execution_count": null
    },
    {
      "cell_type": "code",
      "source": [
        "df.nunique().sort_values()"
      ],
      "metadata": {
        "ExecuteTime": {
          "end_time": "2024-08-30T14:26:24.694698Z",
          "start_time": "2024-08-30T14:26:24.603413Z"
        },
        "id": "f4bb8dda05ac95ed"
      },
      "outputs": [],
      "execution_count": null
    },
    {
      "cell_type": "code",
      "source": [
        "\n",
        "\n",
        "\n",
        "df.dtypes"
      ],
      "metadata": {
        "ExecuteTime": {
          "end_time": "2024-08-30T14:26:24.817701Z",
          "start_time": "2024-08-30T14:26:24.706699Z"
        },
        "id": "744566ce3e5a009d"
      },
      "outputs": [],
      "execution_count": null
    },
    {
      "cell_type": "code",
      "source": [
        "df.shape"
      ],
      "metadata": {
        "ExecuteTime": {
          "end_time": "2024-08-30T14:26:24.833168Z",
          "start_time": "2024-08-30T14:26:24.820702Z"
        },
        "id": "26eaaf4d60c37016"
      },
      "outputs": [],
      "execution_count": null
    },
    {
      "cell_type": "markdown",
      "source": [
        "## Data Preprocessing"
      ],
      "metadata": {
        "id": "cbafcfd3e5f2b27"
      }
    },
    {
      "cell_type": "code",
      "source": [
        "df['last_price'].sort_values()\n"
      ],
      "metadata": {
        "ExecuteTime": {
          "end_time": "2024-08-30T14:26:24.850165Z",
          "start_time": "2024-08-30T14:26:24.836163Z"
        },
        "id": "1e06aa02b692493c"
      },
      "outputs": [],
      "execution_count": null
    },
    {
      "cell_type": "markdown",
      "source": [
        "\n",
        "\n",
        "\n",
        "\n",
        "There's an anomaly low last price that has to be corrected"
      ],
      "metadata": {
        "id": "2e4145f4e7805ab9"
      }
    },
    {
      "cell_type": "code",
      "source": [
        "df.query('last_price==12190.0')"
      ],
      "metadata": {
        "ExecuteTime": {
          "end_time": "2024-08-30T14:26:25.01549Z",
          "start_time": "2024-08-30T14:26:24.852164Z"
        },
        "id": "7a1d9bcfae993e9e"
      },
      "outputs": [],
      "execution_count": null
    },
    {
      "cell_type": "code",
      "source": [
        "min_value = min(df['last_price'])\n",
        "df.loc[df['last_price']==min_value, 'last_price'] = int(min_value*100)"
      ],
      "metadata": {
        "ExecuteTime": {
          "end_time": "2024-08-30T14:26:25.034417Z",
          "start_time": "2024-08-30T14:26:25.019492Z"
        },
        "id": "7b17379ef19f00fc"
      },
      "outputs": [],
      "execution_count": null
    },
    {
      "cell_type": "code",
      "source": [
        "\n",
        "\n",
        "\n",
        "df[df['ponds_nearest'].isna()][ 'ponds_around3000'].value_counts()"
      ],
      "metadata": {
        "ExecuteTime": {
          "end_time": "2024-08-30T14:26:25.067219Z",
          "start_time": "2024-08-30T14:26:25.037414Z"
        },
        "id": "c5fc5be889087c1c"
      },
      "outputs": [],
      "execution_count": null
    },
    {
      "cell_type": "code",
      "source": [
        "\n",
        "df[df['parks_nearest'].isna()][ 'parks_around3000'].value_counts()"
      ],
      "metadata": {
        "ExecuteTime": {
          "end_time": "2024-08-30T14:26:25.087209Z",
          "start_time": "2024-08-30T14:26:25.06922Z"
        },
        "id": "698e4d781fe518d7"
      },
      "outputs": [],
      "execution_count": null
    },
    {
      "cell_type": "code",
      "source": [
        "features_to_compare = ['airports_nearest', 'cityCenters_nearest']\n",
        "\n",
        "df[features_to_compare] = df[features_to_compare].fillna(0)\n"
      ],
      "metadata": {
        "ExecuteTime": {
          "end_time": "2024-08-30T14:26:25.101209Z",
          "start_time": "2024-08-30T14:26:25.09121Z"
        },
        "id": "c893070970fed613"
      },
      "outputs": [],
      "execution_count": null
    },
    {
      "cell_type": "code",
      "source": [
        "\n",
        "\n",
        "from sklearn.metrics import pairwise_distances\n",
        "def fulfill_by_closest(\n",
        "        df: pd.DataFrame,\n",
        "        features: list[str],\n",
        "        features_to_compare: list[str]\n",
        "):\n",
        "    for feature in features:\n",
        "        known_values = df[df[feature].notna()]\n",
        "        unknown_values = df[df[feature].isna()]\n",
        "        distances = pairwise_distances(unknown_values[features_to_compare], known_values[features_to_compare], metric='euclidean')\n",
        "        nearest_indices = distances.argmin(axis=1)\n",
        "        df.loc[df[feature].isna(), feature] = known_values.iloc[nearest_indices][feature].values"
      ],
      "metadata": {
        "ExecuteTime": {
          "end_time": "2024-08-30T14:26:28.338416Z",
          "start_time": "2024-08-30T14:26:25.103209Z"
        },
        "id": "a321e46e963e46d3"
      },
      "outputs": [],
      "execution_count": null
    },
    {
      "cell_type": "code",
      "source": [
        "features_to_fill = ['parks_nearest','ponds_nearest','ponds_around3000','parks_around3000']\n",
        "fulfill_by_closest(\n",
        "    df = df,\n",
        "    features = features_to_fill,\n",
        "    features_to_compare = features_to_compare\n",
        ")"
      ],
      "metadata": {
        "ExecuteTime": {
          "end_time": "2024-08-30T14:26:44.63785Z",
          "start_time": "2024-08-30T14:26:28.342941Z"
        },
        "id": "ba3f842f460e7b1"
      },
      "outputs": [],
      "execution_count": null
    },
    {
      "cell_type": "code",
      "source": [
        "\n",
        "df.dropna(subset=['locality_name'], inplace=True)"
      ],
      "metadata": {
        "ExecuteTime": {
          "end_time": "2024-08-30T14:26:44.660163Z",
          "start_time": "2024-08-30T14:26:44.642848Z"
        },
        "id": "b8d19cfc11d3fd0a"
      },
      "outputs": [],
      "execution_count": null
    },
    {
      "cell_type": "code",
      "source": [
        "\n",
        "\n",
        "df.loc[df['floors_total'].isna(), 'floors_total'] = df.loc[df['floors_total'].isna(), 'floor']"
      ],
      "metadata": {
        "ExecuteTime": {
          "end_time": "2024-08-30T14:26:44.795915Z",
          "start_time": "2024-08-30T14:26:44.662153Z"
        },
        "id": "3f0116fea110054e"
      },
      "outputs": [],
      "execution_count": null
    },
    {
      "cell_type": "code",
      "source": [
        "\n",
        "df = df[df['floors_total']<=37]"
      ],
      "metadata": {
        "ExecuteTime": {
          "end_time": "2024-08-30T14:26:44.811842Z",
          "start_time": "2024-08-30T14:26:44.797906Z"
        },
        "id": "147daa46b8fafe5e"
      },
      "outputs": [],
      "execution_count": null
    },
    {
      "cell_type": "code",
      "source": [
        "df.loc[df['balcony'].isna()==True,'balcony']=0"
      ],
      "metadata": {
        "ExecuteTime": {
          "end_time": "2024-08-30T14:26:44.830844Z",
          "start_time": "2024-08-30T14:26:44.814371Z"
        },
        "id": "fae9116d8d677c7d"
      },
      "outputs": [],
      "execution_count": null
    },
    {
      "cell_type": "code",
      "source": [
        "grouped = df[df['ceiling_height'].notna()].groupby(['locality_name'])"
      ],
      "metadata": {
        "ExecuteTime": {
          "end_time": "2024-08-30T14:26:44.887978Z",
          "start_time": "2024-08-30T14:26:44.836888Z"
        },
        "id": "ef84b12807f0d496"
      },
      "outputs": [],
      "execution_count": null
    },
    {
      "cell_type": "code",
      "source": [
        "df['ceiling_height'] = df.groupby('locality_name')['ceiling_height'].transform(lambda x: x.fillna(x.mean()))\n"
      ],
      "metadata": {
        "ExecuteTime": {
          "end_time": "2024-08-30T14:26:45.182151Z",
          "start_time": "2024-08-30T14:26:44.895503Z"
        },
        "id": "c4494412e6a1d74e"
      },
      "outputs": [],
      "execution_count": null
    },
    {
      "cell_type": "code",
      "source": [
        "\n",
        "df.dropna(subset=['ceiling_height'], inplace=True)"
      ],
      "metadata": {
        "ExecuteTime": {
          "end_time": "2024-08-30T14:26:45.212561Z",
          "start_time": "2024-08-30T14:26:45.188562Z"
        },
        "id": "9e1042a3a6df03d3"
      },
      "outputs": [],
      "execution_count": null
    },
    {
      "cell_type": "code",
      "source": [
        "df.shape"
      ],
      "metadata": {
        "ExecuteTime": {
          "end_time": "2024-08-30T14:26:45.261778Z",
          "start_time": "2024-08-30T14:26:45.227091Z"
        },
        "id": "935608fd8fbf8125"
      },
      "outputs": [],
      "execution_count": null
    },
    {
      "cell_type": "code",
      "source": [
        "df.isna().sum().sort_values(ascending=False)"
      ],
      "metadata": {
        "ExecuteTime": {
          "end_time": "2024-08-30T14:26:45.341168Z",
          "start_time": "2024-08-30T14:26:45.268736Z"
        },
        "id": "6ba340ebb4494dad"
      },
      "outputs": [],
      "execution_count": null
    },
    {
      "cell_type": "code",
      "source": [
        "df.loc[df['kitchen_area'].isna(),'kitchen_area'] = np.floor(df['kitchen_area'].mean())\n",
        "df.loc[df['living_area'].isna(),'living_area']= np.floor(df['living_area'].mean())\n"
      ],
      "metadata": {
        "ExecuteTime": {
          "end_time": "2024-08-30T14:26:45.362211Z",
          "start_time": "2024-08-30T14:26:45.347138Z"
        },
        "id": "59b84512c5b3ccb3"
      },
      "outputs": [],
      "execution_count": null
    },
    {
      "cell_type": "code",
      "source": [
        "df = df[df['total_area']>20]"
      ],
      "metadata": {
        "ExecuteTime": {
          "end_time": "2024-08-30T14:26:45.543763Z",
          "start_time": "2024-08-30T14:26:45.397762Z"
        },
        "id": "9f28e95398ddc7a7"
      },
      "outputs": [],
      "execution_count": null
    },
    {
      "cell_type": "code",
      "source": [
        "df.shape"
      ],
      "metadata": {
        "ExecuteTime": {
          "end_time": "2024-08-30T14:26:45.577876Z",
          "start_time": "2024-08-30T14:26:45.552646Z"
        },
        "id": "e76f3243d9a6ae3b"
      },
      "outputs": [],
      "execution_count": null
    },
    {
      "cell_type": "code",
      "source": [
        "df.loc[:,'non_living_area'] = df['total_area']-(df['living_area']+df['kitchen_area'])"
      ],
      "metadata": {
        "ExecuteTime": {
          "end_time": "2024-08-30T14:26:45.706852Z",
          "start_time": "2024-08-30T14:26:45.584875Z"
        },
        "id": "873497063cb52967"
      },
      "outputs": [],
      "execution_count": null
    },
    {
      "cell_type": "code",
      "source": [
        "df = df[df['non_living_area']>0]"
      ],
      "metadata": {
        "ExecuteTime": {
          "end_time": "2024-08-30T14:26:45.761486Z",
          "start_time": "2024-08-30T14:26:45.714062Z"
        },
        "id": "adcdffbd75432e0"
      },
      "outputs": [],
      "execution_count": null
    },
    {
      "cell_type": "code",
      "source": [
        "df.fillna(value=0, inplace=True)"
      ],
      "metadata": {
        "ExecuteTime": {
          "end_time": "2024-08-30T14:26:45.810372Z",
          "start_time": "2024-08-30T14:26:45.765492Z"
        },
        "id": "a98f8f2237ee4b26"
      },
      "outputs": [],
      "execution_count": null
    },
    {
      "cell_type": "code",
      "source": [
        "df['first_day_exposition'] = pd.to_datetime(df['first_day_exposition'])\n",
        "df['exposition_year'] = df['first_day_exposition'].dt.year\n",
        "df['exposition_month'] = df['first_day_exposition'].dt.month\n",
        "df['exposition_day'] = df['first_day_exposition'].dt.day\n",
        "df['exposition_weekday'] = df['first_day_exposition'].dt.weekday\n",
        "df['studio'] = df['studio'].astype(int)\n",
        "df['open_plan'] = df['open_plan'].astype(int)"
      ],
      "metadata": {
        "ExecuteTime": {
          "end_time": "2024-08-30T14:26:46.050735Z",
          "start_time": "2024-08-30T14:26:45.816375Z"
        },
        "id": "678d88bf3f391a6a"
      },
      "outputs": [],
      "execution_count": null
    },
    {
      "cell_type": "code",
      "source": [
        "\n",
        "df['log_last_price'] = np.log1p(df['last_price'])"
      ],
      "metadata": {
        "ExecuteTime": {
          "end_time": "2024-08-30T14:26:46.065124Z",
          "start_time": "2024-08-30T14:26:46.052742Z"
        },
        "id": "941eacc46dd50cb0"
      },
      "outputs": [],
      "execution_count": null
    },
    {
      "cell_type": "markdown",
      "source": [],
      "metadata": {
        "id": "faf210fa27d64361"
      }
    },
    {
      "cell_type": "markdown",
      "source": [
        "## Exploratory Data Analysis (EDA)"
      ],
      "metadata": {
        "id": "5d8cfed18416a71a"
      }
    },
    {
      "cell_type": "code",
      "source": [
        "import seaborn as sns\n",
        "def create_matrix_correlation(data):\n",
        "    corr = data.corr()\n",
        "    fig = plt.figure(figsize=(10,10))\n",
        "    sns.heatmap(\n",
        "        corr, annot=True, fmt='.2f',cmap='coolwarm',cbar=True\n",
        "    )\n",
        "    fig.tight_layout()\n",
        "    plt.show()"
      ],
      "metadata": {
        "ExecuteTime": {
          "end_time": "2024-08-30T14:26:46.09225Z",
          "start_time": "2024-08-30T14:26:46.070122Z"
        },
        "id": "934e5361832821b0"
      },
      "outputs": [],
      "execution_count": null
    },
    {
      "cell_type": "code",
      "source": [
        "def draw_distribution_graphic(x: pd.Series)->None:\n",
        "    fig, ax = plt.subplots(figsize = (12, 6))\n",
        "    sns.histplot(x, kde = True)\n",
        "    ax.set_title(\"Target distribution\", fontsize = 15, pad = 10, loc = 'left')\n",
        "    ax.set_xlabel(\"Price - log transformed\", fontsize = 8)\n",
        "    ax.set_ylabel(\"Frequency\", fontsize = 8)\n",
        "    plt.show()"
      ],
      "metadata": {
        "ExecuteTime": {
          "end_time": "2024-08-30T14:26:46.115859Z",
          "start_time": "2024-08-30T14:26:46.095246Z"
        },
        "id": "fc79e70ac8a16a36"
      },
      "outputs": [],
      "execution_count": null
    },
    {
      "cell_type": "code",
      "source": [
        "df.head()"
      ],
      "metadata": {
        "ExecuteTime": {
          "end_time": "2024-08-30T14:26:46.210913Z",
          "start_time": "2024-08-30T14:26:46.122863Z"
        },
        "id": "f853ab23886c4d4d"
      },
      "outputs": [],
      "execution_count": null
    },
    {
      "cell_type": "code",
      "source": [
        "\n",
        "create_matrix_correlation(df.drop(['locality_name','first_day_exposition'],axis=1))"
      ],
      "metadata": {
        "ExecuteTime": {
          "end_time": "2024-08-30T14:26:52.306959Z",
          "start_time": "2024-08-30T14:26:46.228914Z"
        },
        "id": "7451be6a2588e0b5"
      },
      "outputs": [],
      "execution_count": null
    },
    {
      "cell_type": "code",
      "source": [
        "['total_area', 'rooms', 'living_area', 'is_apartment', 'kitchen_area',\n",
        "       'airports_nearest', 'parks_nearest', 'non_living_area']"
      ],
      "metadata": {
        "ExecuteTime": {
          "end_time": "2024-08-30T14:26:52.320525Z",
          "start_time": "2024-08-30T14:26:52.309383Z"
        },
        "id": "24816d534db8ef1a"
      },
      "outputs": [],
      "execution_count": null
    },
    {
      "cell_type": "code",
      "source": [
        "X = df.drop(['last_price','first_day_exposition','locality_name','studio', 'open_plan','log_last_price'], axis=1)\n",
        "\n",
        "y = df['log_last_price']"
      ],
      "metadata": {
        "ExecuteTime": {
          "end_time": "2024-08-30T14:26:52.34293Z",
          "start_time": "2024-08-30T14:26:52.322504Z"
        },
        "id": "df5920099ccb211c"
      },
      "outputs": [],
      "execution_count": null
    },
    {
      "cell_type": "code",
      "source": [
        "draw_distribution_graphic(\n",
        "    x=df.last_price\n",
        ")"
      ],
      "metadata": {
        "ExecuteTime": {
          "end_time": "2024-08-30T14:27:00.4119Z",
          "start_time": "2024-08-30T14:26:52.345731Z"
        },
        "id": "bd0261c033be045b"
      },
      "outputs": [],
      "execution_count": null
    },
    {
      "cell_type": "code",
      "source": [
        "draw_distribution_graphic(\n",
        "    x=df.log_last_price\n",
        ")\n"
      ],
      "metadata": {
        "ExecuteTime": {
          "end_time": "2024-08-30T14:27:01.44239Z",
          "start_time": "2024-08-30T14:27:00.413975Z"
        },
        "id": "a36f253d81cd99c3"
      },
      "outputs": [],
      "execution_count": null
    },
    {
      "cell_type": "markdown",
      "source": [
        "## Feature Selection"
      ],
      "metadata": {
        "id": "1d213601ededdfa9"
      }
    },
    {
      "cell_type": "code",
      "source": [
        "df.isna().sum().sort_values(ascending=False)"
      ],
      "metadata": {
        "ExecuteTime": {
          "end_time": "2024-08-30T14:27:01.47138Z",
          "start_time": "2024-08-30T14:27:01.446055Z"
        },
        "id": "4775c1f6b69786fa"
      },
      "outputs": [],
      "execution_count": null
    },
    {
      "cell_type": "code",
      "source": [
        "\n",
        "from sklearn.feature_selection import f_classif, SelectKBest\n",
        "\n",
        "selector = SelectKBest(\n",
        "    score_func=f_classif,\n",
        "    k=12\n",
        ")\n",
        "X_new = selector.fit_transform(X,y)"
      ],
      "metadata": {
        "ExecuteTime": {
          "end_time": "2024-08-30T14:27:02.937985Z",
          "start_time": "2024-08-30T14:27:01.476427Z"
        },
        "id": "a979f30b6e7298a4"
      },
      "outputs": [],
      "execution_count": null
    },
    {
      "cell_type": "code",
      "source": [
        "\n",
        "X_new"
      ],
      "metadata": {
        "ExecuteTime": {
          "end_time": "2024-08-30T14:27:02.951062Z",
          "start_time": "2024-08-30T14:27:02.939982Z"
        },
        "id": "8bf5854acb219f29"
      },
      "outputs": [],
      "execution_count": null
    },
    {
      "cell_type": "code",
      "source": [
        "y"
      ],
      "metadata": {
        "ExecuteTime": {
          "end_time": "2024-08-30T14:27:02.969805Z",
          "start_time": "2024-08-30T14:27:02.953061Z"
        },
        "id": "3417208d02bda4db"
      },
      "outputs": [],
      "execution_count": null
    },
    {
      "cell_type": "code",
      "source": [
        "\n",
        "selected_indices = selector.get_support(indices=True)\n",
        "print(\"Selected feature indices:\", selected_indices)"
      ],
      "metadata": {
        "ExecuteTime": {
          "end_time": "2024-08-30T14:27:02.985086Z",
          "start_time": "2024-08-30T14:27:02.972804Z"
        },
        "id": "54946d43e8c03886"
      },
      "outputs": [],
      "execution_count": null
    },
    {
      "cell_type": "code",
      "source": [
        "selected_feature_names = X.columns[selected_indices]\n",
        "print(\"Selected feature names:\", selected_feature_names)"
      ],
      "metadata": {
        "ExecuteTime": {
          "end_time": "2024-08-30T14:27:02.995575Z",
          "start_time": "2024-08-30T14:27:02.987086Z"
        },
        "id": "b6fe5232009f5062"
      },
      "outputs": [],
      "execution_count": null
    },
    {
      "cell_type": "markdown",
      "source": [
        "## Splitting Data into Train, Validation & Test sets"
      ],
      "metadata": {
        "id": "7bf618f61bf48363"
      }
    },
    {
      "cell_type": "code",
      "source": [
        "from sklearn.model_selection import train_test_split\n",
        "\n",
        "X_train, X_test, y_train, y_test = train_test_split(\n",
        "    X_new,\n",
        "    y,\n",
        "    train_size = 0.8,\n",
        "    test_size = 0.2\n",
        ")"
      ],
      "metadata": {
        "ExecuteTime": {
          "end_time": "2024-08-30T14:27:03.0365Z",
          "start_time": "2024-08-30T14:27:02.997573Z"
        },
        "id": "ea415aa7944ab20"
      },
      "outputs": [],
      "execution_count": null
    },
    {
      "cell_type": "code",
      "source": [
        "X_train, X_val, y_train, y_val = train_test_split(\n",
        "    X_train,\n",
        "    y_train,\n",
        "    train_size = 0.9,\n",
        "    test_size = 0.1\n",
        ")"
      ],
      "metadata": {
        "ExecuteTime": {
          "end_time": "2024-08-30T14:27:03.062959Z",
          "start_time": "2024-08-30T14:27:03.038496Z"
        },
        "id": "801b354b130cd04c"
      },
      "outputs": [],
      "execution_count": null
    },
    {
      "cell_type": "code",
      "source": [
        "from sklearn.preprocessing import StandardScaler\n",
        "\n",
        "scaler = StandardScaler().fit(X_train)\n",
        "X_train_scaled = scaler.transform(X_train)\n",
        "X_test_scaled = scaler.transform(X_test)\n",
        "X_val_scaled = scaler.transform(X_val)"
      ],
      "metadata": {
        "ExecuteTime": {
          "end_time": "2024-08-30T14:27:03.147049Z",
          "start_time": "2024-08-30T14:27:03.064957Z"
        },
        "id": "399e33161e9c5cf8"
      },
      "outputs": [],
      "execution_count": null
    },
    {
      "cell_type": "markdown",
      "source": [
        "## Model building & training"
      ],
      "metadata": {
        "id": "5bdda2f4a87f6b2e"
      }
    },
    {
      "cell_type": "code",
      "source": [
        "from sklearn.ensemble import BaggingRegressor\n",
        "from sklearn.metrics import mean_absolute_error, mean_squared_error, r2_score\n",
        "from dataclasses import dataclass\n",
        "import abc\n",
        "from typing import Dict, Any, Type\n",
        "from sklearn.model_selection import GridSearchCV\n",
        "\n",
        "\n",
        "@dataclass\n",
        "class ModelBuildingHelper:\n",
        "    model_class: Type[abc.ABCMeta]\n",
        "    X_train: pd.DataFrame\n",
        "    X_val: pd.DataFrame\n",
        "    y_train: pd.Series\n",
        "    y_val: pd.Series\n",
        "    test_x_data: pd.DataFrame\n",
        "    test_y_data: pd.Series\n",
        "    params_grid: Dict[str, Any]  = None\n",
        "    bagging_params: Dict[str, Any] = None\n",
        "    def __post_init__(self):\n",
        "        self.model_instance = self.model_class\n",
        "        if self.params_grid:\n",
        "            self.grid_search = GridSearchCV(\n",
        "                estimator = self.model_instance,\n",
        "                param_grid =  self.params_grid,\n",
        "                cv = 5\n",
        "            )\n",
        "        else:\n",
        "            self.grid_search = None\n",
        "\n",
        "        if self.bagging_params:\n",
        "            self.bagging_model = BaggingRegressor(\n",
        "                estimator=self.model_instance,\n",
        "                **self.bagging_params\n",
        "            )\n",
        "        else:\n",
        "            self.bagging_model = None\n",
        "\n",
        "    def train_model(self):\n",
        "        if self.grid_search:\n",
        "            self.grid_search.fit(self.X_train, self.y_train)\n",
        "            self.model_instance = self.grid_search.best_estimator_\n",
        "        else:\n",
        "            self.model_instance.fit(self.X_train, self.y_train)\n",
        "\n",
        "\n",
        "    def evaluate_model(self):\n",
        "        y_val_pred = self.model_instance.predict(self.X_val)\n",
        "        self.metrics(y_real=self.y_val,\n",
        "                     y_pred=y_val_pred)\n",
        "    def metrics(self, y_real, y_pred):\n",
        "        mae = mean_absolute_error(y_real,y_pred)\n",
        "        mse = mean_squared_error(y_real, y_pred)\n",
        "        r2 = r2_score(y_real, y_pred)\n",
        "        print(f'metrics:\\n'\n",
        "              f'mae {mae}\\n'\n",
        "              f'mse {mse}\\n'\n",
        "              f'r2 {r2}\\n')\n",
        "\n",
        "    def get_prediction(self):\n",
        "        test_pred_data = self.model_instance.predict(self.test_x_data)\n",
        "        self.metrics(self.test_y_data, test_pred_data)\n",
        "    def get_best_params(self):\n",
        "        if self.grid_search:\n",
        "            return self.grid_search.best_params_\n",
        "        else:\n",
        "            raise ValueError(\"GridSearchCV hasn't been completed yet\")"
      ],
      "metadata": {
        "ExecuteTime": {
          "end_time": "2024-08-30T14:27:03.762427Z",
          "start_time": "2024-08-30T14:27:03.149051Z"
        },
        "id": "bb1e41d59eb27fef"
      },
      "outputs": [],
      "execution_count": null
    },
    {
      "cell_type": "code",
      "source": [
        "from sklearn.linear_model import LinearRegression\n",
        "\n",
        "model = LinearRegression()\n",
        "\n",
        "linear_regression = ModelBuildingHelper(\n",
        "    model_class = model,\n",
        "    X_train=X_train_scaled,\n",
        "    X_val=X_test_scaled,\n",
        "    y_train=y_train,\n",
        "    y_val=y_test,\n",
        "    test_x_data=X_val_scaled,\n",
        "    test_y_data=y_val\n",
        ")"
      ],
      "metadata": {
        "ExecuteTime": {
          "end_time": "2024-08-30T17:09:43.369941Z",
          "start_time": "2024-08-30T17:09:43.329938Z"
        },
        "id": "1bfbb7ef925f5206"
      },
      "outputs": [],
      "execution_count": null
    },
    {
      "cell_type": "code",
      "source": [
        "linear_regression.train_model()"
      ],
      "metadata": {
        "ExecuteTime": {
          "end_time": "2024-08-30T17:09:44.546726Z",
          "start_time": "2024-08-30T17:09:44.392916Z"
        },
        "id": "98b4e2ba2c5fa323"
      },
      "outputs": [],
      "execution_count": null
    },
    {
      "cell_type": "code",
      "source": [
        "linear_regression.evaluate_model()"
      ],
      "metadata": {
        "ExecuteTime": {
          "end_time": "2024-08-30T17:09:45.270185Z",
          "start_time": "2024-08-30T17:09:45.258299Z"
        },
        "id": "528bd4bea398e918"
      },
      "outputs": [],
      "execution_count": null
    },
    {
      "cell_type": "code",
      "source": [
        "from sklearn.ensemble import RandomForestRegressor\n",
        "model = RandomForestRegressor()\n",
        "parameters = {'n_estimators': [300],\n",
        "              'max_depth': [20],\n",
        "              'min_samples_split': [4],\n",
        "              'min_samples_leaf': [2,4]\n",
        "              }\n",
        "\n",
        "randomforest_regressor = ModelBuildingHelper(\n",
        "    model_class = model,\n",
        "    X_train=X_train_scaled,\n",
        "    X_val=X_test_scaled,\n",
        "    y_train=y_train,\n",
        "    y_val=y_test,\n",
        "    test_x_data=X_val_scaled,\n",
        "    test_y_data=y_val,\n",
        "    params_grid=parameters,\n",
        ")"
      ],
      "metadata": {
        "ExecuteTime": {
          "end_time": "2024-08-30T17:16:49.641999Z",
          "start_time": "2024-08-30T17:16:49.615653Z"
        },
        "id": "92c4d65c4f9e5653"
      },
      "outputs": [],
      "execution_count": null
    },
    {
      "cell_type": "code",
      "source": [
        "randomforest_regressor.train_model()"
      ],
      "metadata": {
        "ExecuteTime": {
          "end_time": "2024-08-30T17:22:47.430011Z",
          "start_time": "2024-08-30T17:16:49.800288Z"
        },
        "id": "de0ab95e99cd75b"
      },
      "outputs": [],
      "execution_count": null
    },
    {
      "cell_type": "code",
      "source": [
        "randomforest_regressor.evaluate_model()"
      ],
      "metadata": {
        "ExecuteTime": {
          "end_time": "2024-08-30T17:22:47.882262Z",
          "start_time": "2024-08-30T17:22:47.43201Z"
        },
        "id": "9eb86c4c49408bb3"
      },
      "outputs": [],
      "execution_count": null
    },
    {
      "cell_type": "code",
      "source": [
        "randomforest_regressor.get_best_params()"
      ],
      "metadata": {
        "ExecuteTime": {
          "end_time": "2024-08-30T17:23:13.74816Z",
          "start_time": "2024-08-30T17:23:13.738159Z"
        },
        "id": "84117fbeb03a15d8"
      },
      "outputs": [],
      "execution_count": null
    },
    {
      "cell_type": "code",
      "source": [
        "from xgboost import XGBRegressor\n",
        "\n",
        "model = XGBRegressor(\n",
        "    eval_metric='rmse',\n",
        ")\n",
        "\n",
        "bagging_params = {\n",
        "    'n_estimators': 5,\n",
        "    'random_state': 42\n",
        "}\n",
        "\n",
        "parameters = {'n_estimators': [200,400],\n",
        "              'learning_rate': [0.1],\n",
        "              'max_depth': [5],\n",
        "              'subsample': [1.0],\n",
        "              'colsample_bytree': [0.6, 0.8],\n",
        "              'alpha': [1.0],\n",
        "              'lambda': [1.0],\n",
        "              'min_child_weight': [6,8,10]\n",
        "              }\n",
        "\n",
        "xgb_regressor = ModelBuildingHelper(\n",
        "    model_class = model,\n",
        "    X_train=X_train_scaled,\n",
        "    X_val=X_test_scaled,\n",
        "    y_train=y_train,\n",
        "    y_val=y_test,\n",
        "    test_x_data=X_val_scaled,\n",
        "    test_y_data=y_val,\n",
        "    params_grid=parameters,\n",
        "    bagging_params=bagging_params\n",
        ")\n"
      ],
      "metadata": {
        "ExecuteTime": {
          "end_time": "2024-08-30T17:23:19.02943Z",
          "start_time": "2024-08-30T17:23:19.019438Z"
        },
        "id": "fa92200a9a0d1a29"
      },
      "outputs": [],
      "execution_count": null
    },
    {
      "cell_type": "code",
      "source": [
        "xgb_regressor.train_model()"
      ],
      "metadata": {
        "ExecuteTime": {
          "end_time": "2024-08-30T17:24:16.827739Z",
          "start_time": "2024-08-30T17:23:26.330394Z"
        },
        "id": "407f8bb7e27ffa7"
      },
      "outputs": [],
      "execution_count": null
    },
    {
      "cell_type": "code",
      "source": [
        "\n",
        "xgb_regressor.evaluate_model()"
      ],
      "metadata": {
        "ExecuteTime": {
          "end_time": "2024-08-30T17:24:16.872082Z",
          "start_time": "2024-08-30T17:24:16.829734Z"
        },
        "id": "5bf549c197f465aa"
      },
      "outputs": [],
      "execution_count": null
    },
    {
      "cell_type": "code",
      "source": [
        "xgb_regressor.get_best_params()"
      ],
      "metadata": {
        "ExecuteTime": {
          "end_time": "2024-08-30T17:25:28.981724Z",
          "start_time": "2024-08-30T17:25:28.973162Z"
        },
        "id": "c08bdf3500b9af17"
      },
      "outputs": [],
      "execution_count": null
    },
    {
      "cell_type": "code",
      "source": [
        "from sklearn.ensemble import ExtraTreesRegressor\n",
        "\n",
        "model = ExtraTreesRegressor(\n",
        "    n_estimators=100,\n",
        "    max_depth=10,\n",
        "    min_samples_split=2,\n",
        "    min_samples_leaf=1,\n",
        "    random_state=42\n",
        ")"
      ],
      "metadata": {
        "ExecuteTime": {
          "end_time": "2024-08-30T17:25:47.355392Z",
          "start_time": "2024-08-30T17:25:47.349804Z"
        },
        "id": "ffeb5f4071bd7466"
      },
      "outputs": [],
      "execution_count": null
    },
    {
      "cell_type": "code",
      "source": [
        "extra_trees_regressor = ModelBuildingHelper(\n",
        "    model_class = model,\n",
        "    X_train=X_train_scaled,\n",
        "    X_val=X_test_scaled,\n",
        "    y_train=y_train,\n",
        "    y_val=y_test,\n",
        "    test_x_data=X_val_scaled,\n",
        "    test_y_data=y_val,\n",
        ")\n",
        "extra_trees_regressor.train_model()"
      ],
      "metadata": {
        "ExecuteTime": {
          "end_time": "2024-08-30T17:25:57.803628Z",
          "start_time": "2024-08-30T17:25:53.899847Z"
        },
        "id": "e76694b4286bcb35"
      },
      "outputs": [],
      "execution_count": null
    },
    {
      "cell_type": "code",
      "source": [
        "extra_trees_regressor.evaluate_model()"
      ],
      "metadata": {
        "ExecuteTime": {
          "end_time": "2024-08-30T17:26:00.146306Z",
          "start_time": "2024-08-30T17:26:00.055133Z"
        },
        "id": "c591ee509a714f30"
      },
      "outputs": [],
      "execution_count": null
    },
    {
      "cell_type": "code",
      "source": [
        "extra_trees_regressor.get_prediction()"
      ],
      "metadata": {
        "ExecuteTime": {
          "end_time": "2024-08-30T17:26:02.68708Z",
          "start_time": "2024-08-30T17:26:02.638544Z"
        },
        "id": "71598341a8ff60b4"
      },
      "outputs": [],
      "execution_count": null
    },
    {
      "cell_type": "code",
      "source": [
        "\n",
        "import lightgbm as lgb\n",
        "model = lgb.LGBMRegressor(\n",
        "    objective='regression',\n",
        "    boosting_type='gbdt',\n",
        "    random_state=42,\n",
        "    verbose=-1\n",
        ")\n",
        "\n",
        "parameters = {\n",
        "    'n_estimators': [100, 200, 400],\n",
        "    'learning_rate': [0.01, 0.1],\n",
        "    'max_depth': [5, 7],\n",
        "    'num_leaves': [20, 31],\n",
        "    'min_child_samples': [10],\n",
        "    'subsample': [0.6],\n",
        "    'colsample_bytree': [0.6],\n",
        "}\n",
        "\n",
        "lgb_regressor = ModelBuildingHelper(\n",
        "    model_class=model,\n",
        "    X_train=X_train_scaled,\n",
        "    X_val=X_test_scaled,\n",
        "    y_train=y_train,\n",
        "    y_val=y_test,\n",
        "    test_x_data=X_val_scaled,\n",
        "    test_y_data=y_val,\n",
        "    params_grid=parameters,\n",
        ")\n",
        "\n"
      ],
      "metadata": {
        "ExecuteTime": {
          "end_time": "2024-08-30T18:16:20.578Z",
          "start_time": "2024-08-30T18:16:20.569915Z"
        },
        "id": "f448dedd1ff7a610"
      },
      "outputs": [],
      "execution_count": null
    },
    {
      "cell_type": "code",
      "source": [
        "lgb_regressor.train_model()"
      ],
      "metadata": {
        "ExecuteTime": {
          "end_time": "2024-08-30T18:17:33.216336Z",
          "start_time": "2024-08-30T18:16:21.06468Z"
        },
        "id": "f9015afe1e5eb0d7"
      },
      "outputs": [],
      "execution_count": null
    },
    {
      "cell_type": "code",
      "source": [
        "lgb_regressor.evaluate_model()"
      ],
      "metadata": {
        "ExecuteTime": {
          "end_time": "2024-08-30T17:28:07.919368Z",
          "start_time": "2024-08-30T17:28:07.766371Z"
        },
        "id": "c8327557d8025814"
      },
      "outputs": [],
      "execution_count": null
    },
    {
      "cell_type": "code",
      "source": [
        "from catboost import CatBoostRegressor\n",
        "\n",
        "model = CatBoostRegressor(\n",
        "    iterations=500,\n",
        "    depth=6,\n",
        "    learning_rate=0.1,\n",
        "    loss_function='RMSE',\n",
        "    random_state=42,\n",
        "    verbose=0\n",
        ")\n"
      ],
      "metadata": {
        "ExecuteTime": {
          "end_time": "2024-08-30T17:28:18.018085Z",
          "start_time": "2024-08-30T17:28:18.013083Z"
        },
        "id": "ce3b65e3b48be82e"
      },
      "outputs": [],
      "execution_count": null
    },
    {
      "cell_type": "code",
      "source": [
        "catboost_regressor = ModelBuildingHelper(\n",
        "    model_class=model,\n",
        "    X_train=X_train_scaled,\n",
        "    X_val=X_test_scaled,\n",
        "    y_train=y_train,\n",
        "    y_val=y_test,\n",
        "    test_x_data=X_val_scaled,\n",
        "    test_y_data=y_val,\n",
        ")"
      ],
      "metadata": {
        "ExecuteTime": {
          "end_time": "2024-08-30T17:28:33.048248Z",
          "start_time": "2024-08-30T17:28:33.039719Z"
        },
        "id": "9225bd6b7daa2b66"
      },
      "outputs": [],
      "execution_count": null
    },
    {
      "cell_type": "code",
      "source": [
        "catboost_regressor.train_model()"
      ],
      "metadata": {
        "ExecuteTime": {
          "end_time": "2024-08-30T17:28:39.510588Z",
          "start_time": "2024-08-30T17:28:33.547759Z"
        },
        "id": "a92a485148445061"
      },
      "outputs": [],
      "execution_count": null
    },
    {
      "cell_type": "code",
      "source": [
        "catboost_regressor.evaluate_model()"
      ],
      "metadata": {
        "ExecuteTime": {
          "end_time": "2024-08-30T17:28:39.661629Z",
          "start_time": "2024-08-30T17:28:39.513501Z"
        },
        "id": "f78367af8ff262fa"
      },
      "outputs": [],
      "execution_count": null
    },
    {
      "cell_type": "code",
      "source": [
        "from sklearn.linear_model import Lasso\n",
        "\n",
        "model = Lasso()\n",
        "\n",
        "parameters = {\n",
        "    'alpha': [0.01, 0.1, 1.0, 10.0],\n",
        "    'max_iter': [1000]\n",
        "}\n",
        "\n",
        "lasso_regressor = ModelBuildingHelper(\n",
        "    model_class=model,\n",
        "    X_train=X_train_scaled,\n",
        "    X_val=X_test_scaled,\n",
        "    y_train=y_train,\n",
        "    y_val=y_test,\n",
        "    test_x_data=X_val_scaled,\n",
        "    test_y_data=y_val,\n",
        "    params_grid=parameters\n",
        ")\n"
      ],
      "metadata": {
        "ExecuteTime": {
          "end_time": "2024-08-30T17:28:49.369591Z",
          "start_time": "2024-08-30T17:28:49.360844Z"
        },
        "id": "a08d89fe94c7f398"
      },
      "outputs": [],
      "execution_count": null
    },
    {
      "cell_type": "code",
      "source": [
        "lasso_regressor.train_model()"
      ],
      "metadata": {
        "ExecuteTime": {
          "end_time": "2024-08-30T17:29:45.929504Z",
          "start_time": "2024-08-30T17:28:49.608331Z"
        },
        "id": "74d60390a0f126c4"
      },
      "outputs": [],
      "execution_count": null
    },
    {
      "cell_type": "code",
      "source": [
        "lasso_regressor.evaluate_model()"
      ],
      "metadata": {
        "ExecuteTime": {
          "end_time": "2024-08-30T17:29:46.146144Z",
          "start_time": "2024-08-30T17:29:46.133221Z"
        },
        "id": "1a72d7e1ad31cbbf"
      },
      "outputs": [],
      "execution_count": null
    },
    {
      "cell_type": "code",
      "source": [
        "from sklearn.ensemble import StackingRegressor\n",
        "base_learners = [\n",
        "    ('lr', LinearRegression()),\n",
        "    ('rf', RandomForestRegressor(\n",
        "        n_estimators=300,\n",
        "        max_depth=20,\n",
        "        min_samples_split=4,\n",
        "        min_samples_leaf=4\n",
        "    )),\n",
        "    ('xgb', XGBRegressor(\n",
        "        n_estimators=400,\n",
        "        max_depth=5,\n",
        "        alpha=1.0,\n",
        "        colsample_bytree=0.6,\n",
        "        min_child_weight=10,\n",
        "        subsample=1.0,\n",
        "        learning_rate=0.1)),\n",
        "    ('cbr', CatBoostRegressor(\n",
        "        iterations=500,\n",
        "        depth=6,\n",
        "        learning_rate=0.1,\n",
        "        loss_function='RMSE',\n",
        "        random_state=42,\n",
        "        verbose=0\n",
        "    ))\n",
        "]\n",
        "\n",
        "stacking_regressor_4 = StackingRegressor(\n",
        "    estimators=base_learners,\n",
        "    final_estimator=RandomForestRegressor(\n",
        "        n_estimators=400)\n",
        ")\n",
        "\n",
        "stacking_model =  ModelBuildingHelper(\n",
        "    model_class=stacking_regressor_4,\n",
        "    X_train=X_train_scaled,\n",
        "    X_val=X_test_scaled,\n",
        "    y_train=y_train,\n",
        "    y_val=y_test,\n",
        "    test_x_data=X_val_scaled,\n",
        "    test_y_data=y_val,\n",
        ")"
      ],
      "metadata": {
        "ExecuteTime": {
          "end_time": "2024-08-30T16:59:56.363573Z",
          "start_time": "2024-08-30T16:59:56.356695Z"
        },
        "id": "6fe735eb081cec72"
      },
      "outputs": [],
      "execution_count": null
    },
    {
      "cell_type": "code",
      "source": [
        "stacking_model.train_model()"
      ],
      "metadata": {
        "ExecuteTime": {
          "end_time": "2024-08-30T17:05:34.638763Z",
          "start_time": "2024-08-30T17:00:11.071322Z"
        },
        "id": "d6998a869600ef82"
      },
      "outputs": [],
      "execution_count": null
    },
    {
      "cell_type": "code",
      "source": [
        "stacking_model.evaluate_model()"
      ],
      "metadata": {
        "ExecuteTime": {
          "end_time": "2024-08-30T17:05:36.121476Z",
          "start_time": "2024-08-30T17:05:34.640757Z"
        },
        "id": "f310f62f665b231b"
      },
      "outputs": [],
      "execution_count": null
    },
    {
      "cell_type": "code",
      "source": [
        "base_learners = [\n",
        "    ('lr', LinearRegression()),\n",
        "    ('rf', RandomForestRegressor(\n",
        "        n_estimators=300,\n",
        "        max_depth=20,\n",
        "        min_samples_split=4,\n",
        "        min_samples_leaf=4\n",
        "    )),\n",
        "]\n",
        "\n",
        "\n",
        "stacking_regressor_2 = StackingRegressor(\n",
        "    estimators=base_learners,\n",
        "    final_estimator=RandomForestRegressor(\n",
        "        n_estimators=400)\n",
        ")\n",
        "\n",
        "stacking_model =  ModelBuildingHelper(\n",
        "    model_class=stacking_regressor_2,\n",
        "    X_train=X_train_scaled,\n",
        "    X_val=X_test_scaled,\n",
        "    y_train=y_train,\n",
        "    y_val=y_test,\n",
        "    test_x_data=X_val_scaled,\n",
        "    test_y_data=y_val,\n",
        ")\n"
      ],
      "metadata": {
        "ExecuteTime": {
          "end_time": "2024-08-30T16:52:52.297006Z",
          "start_time": "2024-08-30T16:52:52.194181Z"
        },
        "id": "14be968680a40e61"
      },
      "outputs": [],
      "execution_count": null
    },
    {
      "cell_type": "code",
      "source": [
        "stacking_model.train_model()"
      ],
      "metadata": {
        "ExecuteTime": {
          "end_time": "2024-08-30T16:56:46.599493Z",
          "start_time": "2024-08-30T16:52:53.949449Z"
        },
        "id": "1cc4d40bf622e81e"
      },
      "outputs": [],
      "execution_count": null
    },
    {
      "cell_type": "code",
      "source": [
        "stacking_model.evaluate_model()"
      ],
      "metadata": {
        "ExecuteTime": {
          "end_time": "2024-08-30T16:58:28.287994Z",
          "start_time": "2024-08-30T16:58:26.641963Z"
        },
        "id": "79a2504bdecb4b5a"
      },
      "outputs": [],
      "execution_count": null
    },
    {
      "cell_type": "markdown",
      "source": [
        "## Model comparison"
      ],
      "metadata": {
        "id": "b2948f3fd1f9ccf5"
      }
    },
    {
      "cell_type": "code",
      "source": [
        "linear_regression.get_prediction()"
      ],
      "metadata": {
        "id": "69c2dd80066730"
      },
      "outputs": [],
      "execution_count": null
    },
    {
      "cell_type": "code",
      "source": [
        "randomforest_regressor.get_prediction()"
      ],
      "metadata": {
        "id": "309f40edeb7dab82"
      },
      "outputs": [],
      "execution_count": null
    },
    {
      "cell_type": "code",
      "source": [
        "lgb_regressor.get_prediction()"
      ],
      "metadata": {
        "id": "d499aa6ba0326ef5"
      },
      "outputs": [],
      "execution_count": null
    },
    {
      "cell_type": "code",
      "source": [
        "xgb_regressor.get_prediction()"
      ],
      "metadata": {
        "id": "c87c53a1164d09c8"
      },
      "outputs": [],
      "execution_count": null
    },
    {
      "cell_type": "code",
      "source": [
        "catboost_regressor.get_prediction()"
      ],
      "metadata": {
        "id": "d3faeb6bfda752a9"
      },
      "outputs": [],
      "execution_count": null
    },
    {
      "cell_type": "code",
      "source": [
        "lasso_regressor.get_prediction()"
      ],
      "metadata": {
        "id": "34d8c74ecf25f5eb"
      },
      "outputs": [],
      "execution_count": null
    },
    {
      "cell_type": "code",
      "source": [
        "stacking_model.get_prediction()\n"
      ],
      "metadata": {
        "id": "b3c76f5326de5194"
      },
      "outputs": [],
      "execution_count": null
    },
    {
      "cell_type": "code",
      "source": [
        "stacking_model.get_prediction()"
      ],
      "metadata": {
        "id": "e51510328388c6d2"
      },
      "outputs": [],
      "execution_count": null
    },
    {
      "cell_type": "markdown",
      "source": [
        "## Conclusions"
      ],
      "metadata": {
        "id": "4309ced43d92eb49"
      }
    },
    {
      "cell_type": "markdown",
      "source": [
        "The preprocessing involved filling missing values using the nearest neighbors approach and applying  \n",
        "a log transformation to normalize the last_price feature. Feature selection was done using  \n",
        "SelectKBest with f_classif, retaining the top 12 features. Data was scaled with   \n",
        "StandardScaler to ensure uniform contribution from all features.\n",
        "\n",
        "After training and optimizing various models, it was found that the CatBoost Regressor delivered the best performance.   \n",
        "The results were summarized as follows:  \n",
        "CatBoost Regressor  \n",
        "MAE: 0.160  \n",
        "MSE: 0.056\t  \n",
        "R_2: 0.865  \n",
        "\n",
        "CatBoost Regressor achieved the lowest MAE and MSE, and the highest R² score,  \n",
        "making it the most effective model in this analysis.  \n",
        "Overall, the preprocessing and feature selection steps contributed significantly  \n",
        "to the model performance, and stacking models helped in leveraging the strengths of different algorithms.\n",
        "\n",
        "To further improve the results, additional data preprocessing steps such as advanced feature  \n",
        " engineering and more extensive hyperparameter tuning techniques could be considered."
      ],
      "metadata": {
        "id": "d47140d1eb27db82"
      }
    }
  ]
}